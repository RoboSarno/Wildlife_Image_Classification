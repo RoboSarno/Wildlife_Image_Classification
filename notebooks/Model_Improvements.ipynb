{
  "cells": [
    {
      "cell_type": "markdown",
      "metadata": {
        "id": "CZjRLNghHwzz"
      },
      "source": [
        "# Model Improvments\n",
        "\n",
        "- this was dont in google colab for GPU/TPU Usage"
      ]
    },
    {
      "cell_type": "markdown",
      "metadata": {
        "id": "rs-w8RDb12bM"
      },
      "source": [
        "## Imports"
      ]
    },
    {
      "cell_type": "code",
      "execution_count": 19,
      "metadata": {
        "id": "aN4d7S019lM8"
      },
      "outputs": [],
      "source": [
        "import tensorflow\n",
        "import pandas as pd\n",
        "import numpy as np\n",
        "import matplotlib.pyplot as plt\n",
        "from keras.layers import Dense, Conv2D, MaxPool2D, Dropout, Flatten, MaxPooling2D, GlobalAveragePooling2D\n",
        "from keras.models import Sequential\n",
        "from keras.preprocessing.image import ImageDataGenerator\n",
        "from keras.losses import categorical_crossentropy\n",
        "from keras.callbacks import EarlyStopping\n",
        "from tensorflow.keras.applications import EfficientNetB0\n",
        "from keras.layers import PReLU\n",
        "from keras.initializers import Constant\n",
        "from tensorflow.keras.layers import BatchNormalization\n",
        "\n",
        "tensorflow.random.set_seed(42)\n",
        "\n"
      ]
    },
    {
      "cell_type": "markdown",
      "metadata": {
        "id": "XcvnyAsu188r"
      },
      "source": [
        "## Google Connect"
      ]
    },
    {
      "cell_type": "code",
      "execution_count": 20,
      "metadata": {
        "colab": {
          "base_uri": "https://localhost:8080/"
        },
        "id": "xzdEp1Hf9otn",
        "outputId": "32128dc9-8b41-498a-ccd1-81ffb637cd5e"
      },
      "outputs": [
        {
          "name": "stdout",
          "output_type": "stream",
          "text": [
            "Drive already mounted at /content/drive/; to attempt to forcibly remount, call drive.mount(\"/content/drive/\", force_remount=True).\n"
          ]
        }
      ],
      "source": [
        "# from google.colab import drive\n",
        "# drive.mount('/content/drive/')"
      ]
    },
    {
      "cell_type": "markdown",
      "metadata": {
        "id": "0jWp27_sE5tg"
      },
      "source": [
        "### Unzip data"
      ]
    },
    {
      "cell_type": "code",
      "execution_count": null,
      "metadata": {
        "id": "t2-Ds8KGE4t9"
      },
      "outputs": [],
      "source": [
        "from zipfile import ZipFile\n",
        "file_name = 'drive/MyDrive/datasets/data.zip'\n",
        "\n",
        "with ZipFile(file_name, 'r') as zip:\n",
        "  zip.extractall()\n",
        "  print('Done')"
      ]
    },
    {
      "cell_type": "code",
      "execution_count": null,
      "metadata": {
        "id": "0sm4UpiYGNAf"
      },
      "outputs": [],
      "source": [
        "train_path = 'data/train_features_img/'\n",
        "test_path = 'data/test_features_img'"
      ]
    },
    {
      "cell_type": "markdown",
      "metadata": {
        "id": "Jyj7IbXwQWk_"
      },
      "source": [
        "## Helper Functions"
      ]
    },
    {
      "cell_type": "code",
      "execution_count": 83,
      "metadata": {
        "id": "6QpnjnH9QVWu"
      },
      "outputs": [],
      "source": [
        "def plot_metrics2(model_fit):\n",
        "    metrics = ['accuracy', 'precision', 'recall']\n",
        "    for i in metrics:\n",
        "        plt.plot(model_fit.history[i], label='Train')\n",
        "        plt.plot(model_fit.history[f'val_{i}'], label='Test')\n",
        "        plt.ylabel(i)\n",
        "        plt.xlabel('Epochs')\n",
        "        plt.legend()\n",
        "        plt.show()\n",
        "\n",
        "def plot_metrics1(model_fit, save_plots=False):\n",
        "    metrics = ['loss', 'accuracy', 'precision', 'recall']\n",
        "    titles = ['Loss Optimization', 'Categorical Accuracy Performance', 'Precision Performance', 'Recall Performance']\n",
        "    for j, i in enumerate(metrics):\n",
        "        plt.plot(model_fit.history[i], label='Train')\n",
        "        plt.plot(model_fit.history[f'val_{i}'], label='Test')\n",
        "        plt.ylabel(i)\n",
        "        plt.xlabel('epochs')\n",
        "        plt.title(titles[j])\n",
        "        plt.legend()\n",
        "        plt.show()\n",
        "        if save_plots:\n",
        "            plt.savefig(f'../images/{titles[j]}.png')\n",
        "\n",
        "def find_specifset(low=0.4, high=0.4):\n",
        "  ans = []\n",
        "  for index, value, in (round(train.groupby(['site'])['animal_classification'].value_counts(normalize=True), 2)).iteritems():\n",
        "    if value >= low and value <= high:\n",
        "      ans.append([index, value])\n",
        "  return ans\n",
        "        \n",
        "def merge_animals(df):\n",
        "    \"\"\"_summary_\n",
        "\n",
        "    Args:\n",
        "        df (_type_): _description_\n",
        "\n",
        "    Returns:\n",
        "        _type_: _description_\n",
        "    \"\"\"\n",
        "    df_copy = df.copy() # copy df\n",
        "    columns = df_copy.columns # get column names\n",
        "    df_copy['animal_classification'] = np.where(df_copy.values)[1]+1 # add a numeric value to each column\n",
        "    df_copy.drop(columns ,axis=1, inplace=True) # drop columns that were just combined\n",
        "    return df_copy\n",
        "#                ['antelope_duiker', 'bird', 'blank', 'civet_genet', 'hog', 'leopard', 'monkey_prosimian', 'rodent']\n",
        "# Classification:           1           2        3           4          5        6              7               8"
      ]
    },
    {
      "cell_type": "markdown",
      "metadata": {
        "id": "yRB3_vZr2AJx"
      },
      "source": [
        "## Import/Format ImageGenerator Mapping Data"
      ]
    },
    {
      "cell_type": "code",
      "execution_count": 23,
      "metadata": {
        "id": "wgwHqZC1vtEZ"
      },
      "outputs": [],
      "source": [
        "# drive/MyDrive/datasets/Kaggle_Comp/Africa/\n",
        "test_features = pd.read_csv('data/test_features.csv')\n",
        "train_features = pd.read_csv('data/train_features.csv')\n",
        "train_labels = pd.read_csv('data/train_labels.csv')"
      ]
    },
    {
      "cell_type": "code",
      "execution_count": 24,
      "metadata": {
        "id": "yAZU1z2fzhGE"
      },
      "outputs": [],
      "source": [
        "train = pd.merge(left=train_features, right=train_labels, on='id') # combine df's and the right answer"
      ]
    },
    {
      "cell_type": "code",
      "execution_count": 25,
      "metadata": {
        "id": "sH9KPV-Rx5ow"
      },
      "outputs": [],
      "source": [
        "# combine train df's on id\n",
        "train = pd.merge(left=train_features, right=train_labels, on='id') \n",
        "\n",
        "# see function in above cell\n",
        "train['animal_classification'] = merge_animals(train[['antelope_duiker', 'bird', 'blank', 'civet_genet', 'hog', 'leopard', 'monkey_prosimian', 'rodent']]) \n",
        "# done in function above ^ might need \n",
        "# train.drop(['antelope_duiker', 'bird', 'blank', 'civet_genet', 'hog', 'leopard', 'monkey_prosimian', 'rodent'] ,axis=1, inplace=True) # drop\n",
        "\n",
        "# rename numeric observations to actual classifications\n",
        "train['animal_classification'] = train['animal_classification'].map({1:'antelope_duiker', 2:'bird', 3:'blank', 4:'civet_genet', 5:'hog', 6:'leopard', 7:'monkey_prosimian', 8:'rodent'})\n",
        "\n",
        "# split file path column to get file names\n",
        "temp = train['filepath'].str.split(pat='/',expand=True)\n",
        "# rename split columns\n",
        "temp.rename(columns={0: 'old_folder_location', 1: 'filename'}, inplace=True)\n",
        "\n",
        "# concat columns and original df\n",
        "train = pd.concat([train, temp], axis=1).drop(columns=['filepath'],axis=1)\n"
      ]
    },
    {
      "cell_type": "markdown",
      "metadata": {
        "id": "rKRztBleFpZY"
      },
      "source": [
        "## Final Model Iterations"
      ]
    },
    {
      "cell_type": "markdown",
      "metadata": {
        "id": "LQ4wdFncGSI6"
      },
      "source": [
        "### Attempt 1:"
      ]
    },
    {
      "cell_type": "code",
      "execution_count": 26,
      "metadata": {
        "colab": {
          "base_uri": "https://localhost:8080/"
        },
        "id": "fkGq_iBVvZKV",
        "outputId": "594a82e2-1059-4878-fe9f-a1911352b6db"
      },
      "outputs": [
        {
          "name": "stdout",
          "output_type": "stream",
          "text": [
            "Found 14015 validated image filenames belonging to 8 classes.\n",
            "Found 2473 validated image filenames belonging to 8 classes.\n"
          ]
        }
      ],
      "source": [
        "# train\n",
        "img_gen = ImageDataGenerator(\n",
        "        height_shift_range=0.07,\n",
        "        horizontal_flip=True,\n",
        "        preprocessing_function=tensorflow.image.rgb_to_grayscale,\n",
        "        validation_split=.15\n",
        ")\n",
        "train_generator = img_gen.flow_from_dataframe(\n",
        "    train,\n",
        "    directory=train_path, \n",
        "    x_col='filename', \n",
        "    y_col='animal_classification', \n",
        "    target_size=(256, 256), \n",
        "    class_mode='categorical',\n",
        "    batch_size=32,\n",
        "    subset='training'\n",
        ")\n",
        "\n",
        "validation_generator = img_gen.flow_from_dataframe(\n",
        "    train,\n",
        "    directory=train_path, \n",
        "    x_col='filename', \n",
        "    y_col='animal_classification', \n",
        "    target_size=(256, 256), \n",
        "    class_mode='categorical',\n",
        "    batch_size=32,\n",
        "    subset='validation'\n",
        ")\n"
      ]
    },
    {
      "cell_type": "code",
      "execution_count": 1,
      "metadata": {
        "colab": {
          "base_uri": "https://localhost:8080/",
          "height": 0
        },
        "id": "tLi0Knyjvkv9",
        "outputId": "f9c4c8df-9f1d-4a80-cdda-61dce937bb82"
      },
      "outputs": [],
      "source": [
        "model3 = Sequential()\n",
        "# input layers\n",
        "model3.add(EfficientNetB0(include_top=False, weights='imagenet', input_shape=(256, 256, 3)))\n",
        "model3.add(PReLU(alpha_initializer=Constant(value=0.25)))\n",
        "model3.add(GlobalAveragePooling2D())\n",
        "model3.add(Flatten())\n",
        "model3.add(Dropout(0.8))\n",
        "\n",
        "# hidden layers\n",
        "# 1\n",
        "model3.add(Dense(units=128, activation='relu'))\n",
        "model3.add(Dropout(0.7))\n",
        "# # 2\n",
        "model3.add(Dense(units=128, activation='relu'))\n",
        "model3.add(Dropout(0.7))\n",
        "# output layer\n",
        "model3.add(Dense(units=8, activation='softmax'))\n",
        "\n",
        "model3.compile(loss=categorical_crossentropy, optimizer='adam', metrics=['accuracy', 'Recall', 'Precision'])\n",
        "callback = [EarlyStopping(monitor='val_loss', patience=20)]\n",
        "history3 = model3.fit(\n",
        "    train_generator,\n",
        "    batch_size=32,\n",
        "    epochs=100,\n",
        "    validation_data=validation_generator,\n",
        "    callbacks=callback\n",
        ")"
      ]
    },
    {
      "cell_type": "markdown",
      "metadata": {
        "id": "2UYYt_VIGX-l"
      },
      "source": [
        "### Attempt 2: Final"
      ]
    },
    {
      "cell_type": "code",
      "execution_count": 71,
      "metadata": {
        "colab": {
          "base_uri": "https://localhost:8080/"
        },
        "id": "XdxZnCYHZOa_",
        "outputId": "14a2925b-d1e1-40c8-c44e-fe633b9c3458"
      },
      "outputs": [
        {
          "name": "stdout",
          "output_type": "stream",
          "text": [
            "Found 14015 validated image filenames belonging to 8 classes.\n",
            "Found 2473 validated image filenames belonging to 8 classes.\n",
            "Epoch 1/50\n",
            "438/438 [==============================] - 447s 997ms/step - loss: 1.9957 - accuracy: 0.2354 - recall: 0.0611 - precision: 0.5590 - val_loss: 1.6956 - val_accuracy: 0.3684 - val_recall: 0.1245 - val_precision: 0.8902\n",
            "Epoch 2/50\n",
            "438/438 [==============================] - 432s 986ms/step - loss: 1.6550 - accuracy: 0.3661 - recall: 0.1649 - precision: 0.7383 - val_loss: 1.4761 - val_accuracy: 0.4278 - val_recall: 0.1848 - val_precision: 0.7746\n",
            "Epoch 3/50\n",
            "438/438 [==============================] - 429s 980ms/step - loss: 1.5112 - accuracy: 0.4123 - recall: 0.1954 - precision: 0.7604 - val_loss: 1.3455 - val_accuracy: 0.4642 - val_recall: 0.2341 - val_precision: 0.8064\n",
            "Epoch 4/50\n",
            "438/438 [==============================] - 432s 985ms/step - loss: 1.3655 - accuracy: 0.4591 - recall: 0.2422 - precision: 0.7891 - val_loss: 1.2271 - val_accuracy: 0.5107 - val_recall: 0.2887 - val_precision: 0.8470\n",
            "Epoch 5/50\n",
            "438/438 [==============================] - 427s 975ms/step - loss: 1.2876 - accuracy: 0.4994 - recall: 0.2803 - precision: 0.7982 - val_loss: 1.2228 - val_accuracy: 0.5350 - val_recall: 0.3769 - val_precision: 0.8255\n",
            "Epoch 6/50\n",
            "438/438 [==============================] - 427s 976ms/step - loss: 1.2200 - accuracy: 0.5271 - recall: 0.3237 - precision: 0.8190 - val_loss: 1.1401 - val_accuracy: 0.5839 - val_recall: 0.3809 - val_precision: 0.8366\n",
            "Epoch 7/50\n",
            "438/438 [==============================] - 429s 979ms/step - loss: 1.1483 - accuracy: 0.5558 - recall: 0.3555 - precision: 0.8198 - val_loss: 1.0781 - val_accuracy: 0.5815 - val_recall: 0.3490 - val_precision: 0.9123\n",
            "Epoch 8/50\n",
            "438/438 [==============================] - 427s 975ms/step - loss: 1.0839 - accuracy: 0.5887 - recall: 0.3914 - precision: 0.8415 - val_loss: 1.0558 - val_accuracy: 0.5968 - val_recall: 0.3995 - val_precision: 0.8845\n",
            "Epoch 9/50\n",
            "438/438 [==============================] - 431s 984ms/step - loss: 1.0188 - accuracy: 0.6156 - recall: 0.4234 - precision: 0.8555 - val_loss: 0.9314 - val_accuracy: 0.6138 - val_recall: 0.4553 - val_precision: 0.8511\n",
            "Epoch 10/50\n",
            "438/438 [==============================] - 433s 989ms/step - loss: 0.9774 - accuracy: 0.6337 - recall: 0.4432 - precision: 0.8618 - val_loss: 1.0311 - val_accuracy: 0.6454 - val_recall: 0.4860 - val_precision: 0.8370\n",
            "Epoch 11/50\n",
            "438/438 [==============================] - 429s 981ms/step - loss: 0.9308 - accuracy: 0.6516 - recall: 0.4743 - precision: 0.8609 - val_loss: 0.8890 - val_accuracy: 0.6708 - val_recall: 0.4695 - val_precision: 0.9007\n",
            "Epoch 12/50\n",
            "438/438 [==============================] - 428s 977ms/step - loss: 0.8772 - accuracy: 0.6761 - recall: 0.5077 - precision: 0.8662 - val_loss: 0.8325 - val_accuracy: 0.7335 - val_recall: 0.5338 - val_precision: 0.8907\n",
            "Epoch 13/50\n",
            "438/438 [==============================] - 427s 974ms/step - loss: 0.8672 - accuracy: 0.6974 - recall: 0.5317 - precision: 0.8595 - val_loss: 0.8887 - val_accuracy: 0.7028 - val_recall: 0.5317 - val_precision: 0.8567\n",
            "Epoch 14/50\n",
            "438/438 [==============================] - 425s 970ms/step - loss: 0.8172 - accuracy: 0.7237 - recall: 0.5717 - precision: 0.8654 - val_loss: 0.7693 - val_accuracy: 0.7444 - val_recall: 0.5706 - val_precision: 0.8987\n",
            "Epoch 15/50\n",
            "438/438 [==============================] - 423s 967ms/step - loss: 0.7066 - accuracy: 0.7628 - recall: 0.6442 - precision: 0.8767 - val_loss: 0.6634 - val_accuracy: 0.7853 - val_recall: 0.6992 - val_precision: 0.8912\n",
            "Epoch 16/50\n",
            "438/438 [==============================] - 425s 971ms/step - loss: 0.6749 - accuracy: 0.7770 - recall: 0.6725 - precision: 0.8781 - val_loss: 0.6828 - val_accuracy: 0.7816 - val_recall: 0.7157 - val_precision: 0.8672\n",
            "Epoch 17/50\n",
            "438/438 [==============================] - 427s 975ms/step - loss: 0.6332 - accuracy: 0.7979 - recall: 0.7022 - precision: 0.8861 - val_loss: 0.6751 - val_accuracy: 0.7784 - val_recall: 0.6797 - val_precision: 0.8769\n",
            "Epoch 18/50\n",
            "438/438 [==============================] - 424s 969ms/step - loss: 0.6104 - accuracy: 0.8089 - recall: 0.7184 - precision: 0.8899 - val_loss: 0.7111 - val_accuracy: 0.7804 - val_recall: 0.6931 - val_precision: 0.8657\n",
            "Epoch 19/50\n",
            "438/438 [==============================] - 427s 975ms/step - loss: 0.5878 - accuracy: 0.8204 - recall: 0.7360 - precision: 0.9021 - val_loss: 0.6234 - val_accuracy: 0.8108 - val_recall: 0.7533 - val_precision: 0.8813\n",
            "Epoch 20/50\n",
            "438/438 [==============================] - 425s 971ms/step - loss: 0.5318 - accuracy: 0.8357 - recall: 0.7627 - precision: 0.9052 - val_loss: 0.5861 - val_accuracy: 0.8306 - val_recall: 0.7752 - val_precision: 0.8863\n",
            "Epoch 21/50\n",
            "438/438 [==============================] - 424s 969ms/step - loss: 0.5210 - accuracy: 0.8405 - recall: 0.7736 - precision: 0.9054 - val_loss: 0.5332 - val_accuracy: 0.8310 - val_recall: 0.7849 - val_precision: 0.8815\n",
            "Epoch 22/50\n",
            "438/438 [==============================] - 428s 977ms/step - loss: 0.5380 - accuracy: 0.8387 - recall: 0.7687 - precision: 0.9043 - val_loss: 0.5665 - val_accuracy: 0.8144 - val_recall: 0.7687 - val_precision: 0.8781\n",
            "Epoch 23/50\n",
            "438/438 [==============================] - 429s 980ms/step - loss: 0.4745 - accuracy: 0.8557 - recall: 0.7984 - precision: 0.9132 - val_loss: 0.5297 - val_accuracy: 0.8302 - val_recall: 0.7796 - val_precision: 0.8792\n",
            "Epoch 24/50\n",
            "438/438 [==============================] - 430s 983ms/step - loss: 0.4570 - accuracy: 0.8638 - recall: 0.8031 - precision: 0.9166 - val_loss: 0.5826 - val_accuracy: 0.8391 - val_recall: 0.8019 - val_precision: 0.8709\n",
            "Epoch 25/50\n",
            "438/438 [==============================] - 428s 977ms/step - loss: 0.4521 - accuracy: 0.8651 - recall: 0.8133 - precision: 0.9149 - val_loss: 0.5902 - val_accuracy: 0.8225 - val_recall: 0.7877 - val_precision: 0.8521\n",
            "Epoch 26/50\n",
            "438/438 [==============================] - 428s 978ms/step - loss: 0.4552 - accuracy: 0.8661 - recall: 0.8103 - precision: 0.9148 - val_loss: 0.5232 - val_accuracy: 0.8480 - val_recall: 0.8035 - val_precision: 0.8918\n",
            "Epoch 27/50\n",
            "438/438 [==============================] - 432s 985ms/step - loss: 0.4266 - accuracy: 0.8748 - recall: 0.8230 - precision: 0.9210 - val_loss: 0.5048 - val_accuracy: 0.8395 - val_recall: 0.8112 - val_precision: 0.8825\n",
            "Epoch 28/50\n",
            "438/438 [==============================] - 431s 985ms/step - loss: 0.4409 - accuracy: 0.8685 - recall: 0.8195 - precision: 0.9158 - val_loss: 0.6225 - val_accuracy: 0.8132 - val_recall: 0.7719 - val_precision: 0.8587\n",
            "Epoch 29/50\n",
            "438/438 [==============================] - 432s 987ms/step - loss: 0.4269 - accuracy: 0.8740 - recall: 0.8258 - precision: 0.9205 - val_loss: 0.5739 - val_accuracy: 0.8209 - val_recall: 0.7780 - val_precision: 0.8765\n",
            "Epoch 30/50\n",
            "438/438 [==============================] - 425s 970ms/step - loss: 0.3740 - accuracy: 0.8845 - recall: 0.8412 - precision: 0.9243 - val_loss: 0.4869 - val_accuracy: 0.8544 - val_recall: 0.8225 - val_precision: 0.8925\n",
            "Epoch 31/50\n",
            "438/438 [==============================] - 431s 984ms/step - loss: 0.4158 - accuracy: 0.8806 - recall: 0.8323 - precision: 0.9218 - val_loss: 0.5894 - val_accuracy: 0.8411 - val_recall: 0.8095 - val_precision: 0.8808\n",
            "Epoch 32/50\n",
            "438/438 [==============================] - 434s 990ms/step - loss: 0.3929 - accuracy: 0.8889 - recall: 0.8478 - precision: 0.9243 - val_loss: 0.5202 - val_accuracy: 0.8455 - val_recall: 0.8136 - val_precision: 0.8914\n",
            "Epoch 33/50\n",
            "438/438 [==============================] - 431s 984ms/step - loss: 0.3860 - accuracy: 0.8883 - recall: 0.8470 - precision: 0.9279 - val_loss: 0.5638 - val_accuracy: 0.8233 - val_recall: 0.7893 - val_precision: 0.8738\n",
            "Epoch 34/50\n",
            "438/438 [==============================] - 434s 991ms/step - loss: 0.3913 - accuracy: 0.8863 - recall: 0.8427 - precision: 0.9262 - val_loss: 0.5275 - val_accuracy: 0.8573 - val_recall: 0.8273 - val_precision: 0.8880\n",
            "Epoch 35/50\n",
            "438/438 [==============================] - 432s 986ms/step - loss: 0.3303 - accuracy: 0.9019 - recall: 0.8731 - precision: 0.9333 - val_loss: 0.5839 - val_accuracy: 0.8484 - val_recall: 0.8298 - val_precision: 0.8713\n",
            "Epoch 36/50\n",
            "438/438 [==============================] - 431s 985ms/step - loss: 0.3559 - accuracy: 0.8973 - recall: 0.8631 - precision: 0.9319 - val_loss: 0.5315 - val_accuracy: 0.8649 - val_recall: 0.8443 - val_precision: 0.8893\n",
            "Epoch 37/50\n",
            "438/438 [==============================] - 431s 984ms/step - loss: 0.3479 - accuracy: 0.9021 - recall: 0.8701 - precision: 0.9341 - val_loss: 0.5522 - val_accuracy: 0.8556 - val_recall: 0.8290 - val_precision: 0.8813\n"
          ]
        }
      ],
      "source": [
        "# train\n",
        "img_gen = ImageDataGenerator(\n",
        "        height_shift_range=0.07,\n",
        "        horizontal_flip=True,\n",
        "        preprocessing_function=tensorflow.image.rgb_to_grayscale,\n",
        "        validation_split=.15\n",
        ")\n",
        "train_generator = img_gen.flow_from_dataframe(\n",
        "    train,\n",
        "    directory=train_path, \n",
        "    x_col='filename', \n",
        "    y_col='animal_classification', \n",
        "    target_size=(256, 256), \n",
        "    class_mode='categorical',\n",
        "    batch_size=32,\n",
        "    subset='training'\n",
        ")\n",
        "\n",
        "validation_generator = img_gen.flow_from_dataframe(\n",
        "    train,\n",
        "    directory=train_path, \n",
        "    x_col='filename', \n",
        "    y_col='animal_classification', \n",
        "    target_size=(256, 256), \n",
        "    class_mode='categorical',\n",
        "    batch_size=32,\n",
        "    subset='validation'\n",
        ")\n",
        "\n",
        "model3 = Sequential()\n",
        "# input layers\n",
        "model3.add(EfficientNetB0(include_top=False, weights='imagenet', input_shape=(256, 256, 3)))\n",
        "model3.add(PReLU(alpha_initializer=Constant(value=0.25)))\n",
        "model3.add(GlobalAveragePooling2D())\n",
        "model3.add(Flatten())\n",
        "model3.add(Dropout(0.8))\n",
        "\n",
        "# hidden layers\n",
        "# 1\n",
        "model3.add(Dense(units=128, activation='relu'))\n",
        "model3.add(Dropout(0.7))\n",
        "# # 2\n",
        "model3.add(Dense(units=128, activation='relu'))\n",
        "model3.add(Dropout(0.7))\n",
        "# output layer\n",
        "model3.add(Dense(units=8, activation='softmax'))\n",
        "\n",
        "model3.compile(loss=categorical_crossentropy, optimizer='adam', metrics=['accuracy', 'Recall', 'Precision'])\n",
        "callback = [EarlyStopping(monitor='val_loss', patience=7)]\n",
        "history3 = model3.fit(\n",
        "    train_generator,\n",
        "    batch_size=32,\n",
        "    epochs=50,\n",
        "    validation_data=validation_generator,\n",
        "    callbacks=callback\n",
        ")"
      ]
    },
    {
      "cell_type": "markdown",
      "metadata": {
        "id": "_INQiMzuL2BU"
      },
      "source": [
        "### Predictions:"
      ]
    },
    {
      "cell_type": "code",
      "execution_count": 73,
      "metadata": {
        "colab": {
          "base_uri": "https://localhost:8080/"
        },
        "id": "9Nm4ttyRL1R_",
        "outputId": "19226622-262c-4119-c21f-4dd56395ddaf"
      },
      "outputs": [
        {
          "name": "stdout",
          "output_type": "stream",
          "text": [
            "(2473, 8)\n"
          ]
        },
        {
          "data": {
            "text/plain": [
              "array([[5.7695033e-06, 3.8038577e-09, 8.2027661e-03, ..., 9.3435405e-14,\n",
              "        2.6399546e-10, 9.9170977e-01],\n",
              "       [9.1589338e-01, 6.6403713e-04, 4.6626829e-02, ..., 1.8242448e-05,\n",
              "        3.1793915e-02, 1.2737839e-03],\n",
              "       [9.9959069e-01, 2.6286393e-10, 4.6248791e-05, ..., 3.7398209e-14,\n",
              "        3.6135284e-04, 5.2855365e-09],\n",
              "       ...,\n",
              "       [9.9859852e-01, 5.8446510e-08, 4.9129024e-04, ..., 1.5886013e-11,\n",
              "        8.3184277e-04, 1.1096341e-05],\n",
              "       [7.2746610e-07, 3.0181341e-10, 3.9150296e-03, ..., 6.8109517e-16,\n",
              "        1.0499931e-11, 9.9606627e-01],\n",
              "       [1.1654358e-01, 8.4793037e-03, 4.8243679e-02, ..., 7.7580655e-05,\n",
              "        8.2658094e-01, 3.5447745e-05]], dtype=float32)"
            ]
          },
          "execution_count": 73,
          "metadata": {},
          "output_type": "execute_result"
        }
      ],
      "source": [
        "# generating soft predictions (returns probabilities)\n",
        "val_preds = model3.predict(validation_generator)\n",
        "print(val_preds.shape)\n",
        "val_preds"
      ]
    },
    {
      "cell_type": "code",
      "execution_count": 74,
      "metadata": {
        "colab": {
          "base_uri": "https://localhost:8080/"
        },
        "id": "nw--1AeTL-Fd",
        "outputId": "d66cef5e-52dd-4dda-a8e6-724abdece79c"
      },
      "outputs": [
        {
          "name": "stdout",
          "output_type": "stream",
          "text": [
            "(2473, 8)\n"
          ]
        },
        {
          "data": {
            "text/plain": [
              "array([[0, 0, 0, ..., 0, 0, 1],\n",
              "       [1, 0, 0, ..., 0, 0, 0],\n",
              "       [1, 0, 0, ..., 0, 0, 0],\n",
              "       ...,\n",
              "       [1, 0, 0, ..., 0, 0, 0],\n",
              "       [0, 0, 0, ..., 0, 0, 1],\n",
              "       [0, 0, 0, ..., 0, 1, 0]])"
            ]
          },
          "execution_count": 74,
          "metadata": {},
          "output_type": "execute_result"
        }
      ],
      "source": [
        "# converting to hard predictions\n",
        "val_preds_class = np.array([np.where(array == array.max(), 1, 0) for array in val_preds]) #highest probability yields true for that class\n",
        "print(val_preds_class.shape)\n",
        "val_preds_class"
      ]
    },
    {
      "cell_type": "code",
      "execution_count": 75,
      "metadata": {
        "colab": {
          "base_uri": "https://localhost:8080/"
        },
        "id": "PeweQIYTL_5U",
        "outputId": "91c0c482-1d57-44f1-eb03-fcf16d055168"
      },
      "outputs": [
        {
          "name": "stdout",
          "output_type": "stream",
          "text": [
            "(2473,)\n"
          ]
        },
        {
          "data": {
            "text/plain": [
              "array([7, 0, 0, ..., 0, 7, 6])"
            ]
          },
          "execution_count": 75,
          "metadata": {},
          "output_type": "execute_result"
        }
      ],
      "source": [
        "# flattening to 1D array for confusion matrix\n",
        "val_preds_class_1D = np.array([np.argmax(row) for row in val_preds_class])\n",
        "print(val_preds_class_1D.shape)\n",
        "val_preds_class_1D"
      ]
    },
    {
      "cell_type": "markdown",
      "metadata": {
        "id": "4AKqBeeuMBwt"
      },
      "source": [
        "### Evaluation:"
      ]
    },
    {
      "cell_type": "code",
      "execution_count": 76,
      "metadata": {
        "colab": {
          "base_uri": "https://localhost:8080/"
        },
        "id": "FMm6Qhe-MHU7",
        "outputId": "fe2204de-753a-4061-bdd5-80af382a57e4"
      },
      "outputs": [
        {
          "name": "stdout",
          "output_type": "stream",
          "text": [
            "(2473,)\n"
          ]
        },
        {
          "data": {
            "text/plain": [
              "array([1, 6, 1, ..., 4, 0, 6])"
            ]
          },
          "execution_count": 76,
          "metadata": {},
          "output_type": "execute_result"
        }
      ],
      "source": [
        "# gathering true image labels to compare to predicted labels\n",
        "val_labels = np.array(validation_generator.classes)\n",
        "print(val_labels.shape)\n",
        "val_labels"
      ]
    },
    {
      "cell_type": "code",
      "execution_count": 77,
      "metadata": {
        "colab": {
          "base_uri": "https://localhost:8080/"
        },
        "id": "Om_rr8w0MKJe",
        "outputId": "01065d8c-7b20-4545-d439-5ea7544dd210"
      },
      "outputs": [
        {
          "data": {
            "text/plain": [
              "{'antelope_duiker': 0,\n",
              " 'bird': 1,\n",
              " 'blank': 2,\n",
              " 'civet_genet': 3,\n",
              " 'hog': 4,\n",
              " 'leopard': 5,\n",
              " 'monkey_prosimian': 6,\n",
              " 'rodent': 7}"
            ]
          },
          "execution_count": 77,
          "metadata": {},
          "output_type": "execute_result"
        }
      ],
      "source": [
        "# recall the label,index pairing\n",
        "label_names = list(train_generator.class_indices.keys()) #will use for confusion matrix\n",
        "train_generator.class_indices"
      ]
    },
    {
      "cell_type": "code",
      "execution_count": 78,
      "metadata": {
        "id": "lafYAmHMML2W"
      },
      "outputs": [],
      "source": [
        "from sklearn.metrics import classification_report, multilabel_confusion_matrix, ConfusionMatrixDisplay"
      ]
    },
    {
      "cell_type": "code",
      "execution_count": 79,
      "metadata": {
        "colab": {
          "base_uri": "https://localhost:8080/"
        },
        "id": "8xsG6HNhMNP0",
        "outputId": "61a692e1-a87e-4620-add8-4d56fe8850f6"
      },
      "outputs": [
        {
          "name": "stdout",
          "output_type": "stream",
          "text": [
            "                  precision    recall  f1-score   support\n",
            "\n",
            " antelope_duiker       0.14      0.12      0.13       366\n",
            "            bird       0.09      0.10      0.09       255\n",
            "           blank       0.10      0.08      0.09       330\n",
            "     civet_genet       0.16      0.17      0.17       351\n",
            "             hog       0.08      0.08      0.08       143\n",
            "         leopard       0.15      0.16      0.15       337\n",
            "monkey_prosimian       0.14      0.16      0.15       367\n",
            "          rodent       0.11      0.12      0.11       324\n",
            "\n",
            "        accuracy                           0.13      2473\n",
            "       macro avg       0.12      0.12      0.12      2473\n",
            "    weighted avg       0.13      0.13      0.13      2473\n",
            "\n"
          ]
        }
      ],
      "source": [
        "print(classification_report(val_labels, val_preds_class_1D, target_names=label_names))"
      ]
    },
    {
      "cell_type": "code",
      "execution_count": 80,
      "metadata": {
        "colab": {
          "base_uri": "https://localhost:8080/"
        },
        "id": "nQkh1IrnMPwW",
        "outputId": "63f740fa-a076-49a6-cbdc-772716de8332"
      },
      "outputs": [
        {
          "data": {
            "text/plain": [
              "{'antelope_duiker': array([[1832,  275],\n",
              "        [ 321,   45]]), 'bird': array([[1965,  253],\n",
              "        [ 230,   25]]), 'blank': array([[1911,  232],\n",
              "        [ 304,   26]]), 'civet_genet': array([[1812,  310],\n",
              "        [ 290,   61]]), 'hog': array([[2191,  139],\n",
              "        [ 131,   12]]), 'leopard': array([[1838,  298],\n",
              "        [ 284,   53]]), 'monkey_prosimian': array([[1766,  340],\n",
              "        [ 310,   57]]), 'rodent': array([[1840,  309],\n",
              "        [ 286,   38]])}"
            ]
          },
          "execution_count": 80,
          "metadata": {},
          "output_type": "execute_result"
        }
      ],
      "source": [
        "multi_confmatrix = {label_names[i]:matrix for i, matrix in enumerate(multilabel_confusion_matrix(val_labels, val_preds_class_1D))}\n",
        "multi_confmatrix"
      ]
    },
    {
      "cell_type": "code",
      "execution_count": 81,
      "metadata": {
        "colab": {
          "base_uri": "https://localhost:8080/",
          "height": 296
        },
        "id": "h_wgUaOVMQTl",
        "outputId": "a99b3df2-b113-4b84-f221-7965695ce0e5"
      },
      "outputs": [
        {
          "data": {
            "text/plain": [
              "<sklearn.metrics._plot.confusion_matrix.ConfusionMatrixDisplay at 0x7efc2528fe10>"
            ]
          },
          "execution_count": 81,
          "metadata": {},
          "output_type": "execute_result"
        },
        {
          "data": {
            "image/png": "[encoded data removed]",
            "text/plain": [
              "<Figure size 432x288 with 2 Axes>"
            ]
          },
          "metadata": {
            "needs_background": "light"
          },
          "output_type": "display_data"
        }
      ],
      "source": [
        "ConfusionMatrixDisplay.from_predictions(val_labels, val_preds_class_1D)\n",
        "#plt.savefig('../images/multi_confusion_matrix.png')"
      ]
    },
    {
      "cell_type": "code",
      "execution_count": 85,
      "metadata": {
        "colab": {
          "base_uri": "https://localhost:8080/",
          "height": 807
        },
        "id": "wumLgbYBZIbz",
        "outputId": "52f6b7e5-ed57-4de7-9564-a6f42f158321"
      },
      "outputs": [
        {
          "data": {
            "image/png": "[encoded data removed]",
            "text/plain": [
              "<Figure size 432x288 with 1 Axes>"
            ]
          },
          "metadata": {
            "needs_background": "light"
          },
          "output_type": "display_data"
        },
        {
          "data": {
            "image/png": "[encoded data removed]",
            "text/plain": [
              "<Figure size 432x288 with 1 Axes>"
            ]
          },
          "metadata": {
            "needs_background": "light"
          },
          "output_type": "display_data"
        },
        {
          "data": {
            "image/png": "[encoded data removed]",
            "text/plain": [
              "<Figure size 432x288 with 1 Axes>"
            ]
          },
          "metadata": {
            "needs_background": "light"
          },
          "output_type": "display_data"
        }
      ],
      "source": [
        "plot_metrics2(history3)"
      ]
    },
    {
      "cell_type": "markdown",
      "metadata": {
        "id": "HJ7KQyMgFzTh"
      },
      "source": [
        "### Save Model"
      ]
    },
    {
      "cell_type": "code",
      "execution_count": null,
      "metadata": {
        "id": "LiPIKEENh0Ox"
      },
      "outputs": [],
      "source": [
        "# model3.save('../model_data_h5/final_model.h5', save_format='h5')"
      ]
    },
    {
      "cell_type": "markdown",
      "metadata": {
        "id": "2WT9cbJBF-01"
      },
      "source": [
        "# Other Model Testing"
      ]
    },
    {
      "cell_type": "markdown",
      "metadata": {
        "id": "3gCHls-bEi7G"
      },
      "source": [
        "## Model validation and Train set"
      ]
    },
    {
      "cell_type": "code",
      "execution_count": 8,
      "metadata": {
        "id": "63LNpqt_wqz0"
      },
      "outputs": [],
      "source": [
        "# make validation set\n",
        "validation_set = train[(train['site']=='S0009') | (train['site']=='S0043')| (train['site']=='S0059') |(train['site']== 'S0026')] # get validation set for 2 sites\n",
        "# make training set\n",
        "train_set = train[~train.isin(validation_set)].dropna() # remove the observations from train that are in the validation set"
      ]
    },
    {
      "cell_type": "code",
      "execution_count": null,
      "metadata": {
        "colab": {
          "base_uri": "https://localhost:8080/"
        },
        "id": "Lvr6BSF9Yc0Y",
        "outputId": "97f9b62c-345e-4401-eae1-3acc586aada2"
      },
      "outputs": [
        {
          "data": {
            "text/plain": [
              "antelope_duiker     0.159523\n",
              "civet_genet         0.149683\n",
              "monkey_prosimian    0.147055\n",
              "blank               0.143213\n",
              "leopard             0.133172\n",
              "rodent              0.119356\n",
              "bird                0.094757\n",
              "hog                 0.053242\n",
              "Name: animal_classification, dtype: float64"
            ]
          },
          "execution_count": 122,
          "metadata": {},
          "output_type": "execute_result"
        }
      ],
      "source": [
        "train_set['animal_classification'].value_counts(normalize=True)"
      ]
    },
    {
      "cell_type": "code",
      "execution_count": null,
      "metadata": {
        "colab": {
          "base_uri": "https://localhost:8080/"
        },
        "id": "Ehz0QN817-Wv",
        "outputId": "b9929fe2-f2f1-4667-f306-5337f31be1fd"
      },
      "outputs": [
        {
          "data": {
            "text/plain": [
              "monkey_prosimian    0.187879\n",
              "leopard             0.168485\n",
              "rodent              0.146667\n",
              "bird                0.142424\n",
              "civet_genet         0.122424\n",
              "hog                 0.113939\n",
              "antelope_duiker     0.064848\n",
              "blank               0.053333\n",
              "Name: animal_classification, dtype: float64"
            ]
          },
          "execution_count": 123,
          "metadata": {},
          "output_type": "execute_result"
        }
      ],
      "source": [
        "validation_set['animal_classification'].value_counts(normalize=True)"
      ]
    },
    {
      "cell_type": "code",
      "execution_count": 10,
      "metadata": {
        "id": "YZslULssTE0D"
      },
      "outputs": [],
      "source": [
        "train_path = 'data/train_features_img/'\n",
        "test_path = 'data/test_features_img'"
      ]
    },
    {
      "cell_type": "markdown",
      "metadata": {
        "id": "K9am7Kl92F9Y"
      },
      "source": [
        "## Basic Model"
      ]
    },
    {
      "cell_type": "markdown",
      "metadata": {
        "id": "m0OkGv51yrF6"
      },
      "source": [
        " > Looking at all the different occurences of a specific animal\n",
        " \n",
        " > Look a the number of animals in each site"
      ]
    },
    {
      "cell_type": "code",
      "execution_count": null,
      "metadata": {
        "id": "H7dyF5mmyKFf"
      },
      "outputs": [],
      "source": [
        "train_path = 'data/train_features_img/'\n",
        "test_path = 'data/test_features_img'"
      ]
    },
    {
      "cell_type": "code",
      "execution_count": null,
      "metadata": {
        "colab": {
          "base_uri": "https://localhost:8080/"
        },
        "id": "DTK3oRLCw4wo",
        "outputId": "27e5a152-3d14-44bf-cc1d-72dc61ac901f"
      },
      "outputs": [
        {
          "name": "stdout",
          "output_type": "stream",
          "text": [
            "Found 1650 validated image filenames belonging to 8 classes.\n",
            "Found 14838 validated image filenames belonging to 8 classes.\n"
          ]
        }
      ],
      "source": [
        "from keras.utils.traceback_utils import include_frame\n",
        "# ['antelope_duiker',\t'bird',\t'blank', 'civet_genet', 'hog', 'leopard', 'monkey_prosimian','rodent']\n",
        "img_gen = ImageDataGenerator(\n",
        "        brightness_range=[.4, 1.2],\n",
        "        height_shift_range=.4,\n",
        "        horizontal_flip=True\n",
        ")\n",
        "val_generator = img_gen.flow_from_dataframe(\n",
        "    validation_set, \n",
        "    directory=train_path, \n",
        "    x_col='filename', \n",
        "    y_col='animal_classification', \n",
        "    target_size=(256, 256), \n",
        "    class_mode='categorical',\n",
        "    batch_size=32\n",
        ")\n",
        "train_generator = img_gen.flow_from_dataframe(\n",
        "    train_set, \n",
        "    directory=train_path, \n",
        "    x_col='filename', \n",
        "    y_col='animal_classification', \n",
        "    target_size=(256, 256), \n",
        "    class_mode='categorical',\n",
        "    batch_size=32\n",
        ")\n",
        "channel_shift_range=150.0"
      ]
    },
    {
      "cell_type": "code",
      "execution_count": null,
      "metadata": {
        "id": "3E0fUs6UyaGG"
      },
      "outputs": [],
      "source": [
        "model = Sequential()\n",
        "# layers\n",
        "model.add(Conv2D(filters=16, kernel_size=(3,3), activation='relu'))\n",
        "model.add(MaxPool2D(pool_size=(2,2)))\n",
        "model.add(Flatten())\n",
        "model.add(Dense(units=100, activation='relu'))\n",
        "# output layer\n",
        "model.add(Dense(units=8, activation='softmax'))"
      ]
    },
    {
      "cell_type": "code",
      "execution_count": null,
      "metadata": {
        "colab": {
          "base_uri": "https://localhost:8080/"
        },
        "id": "_Mv7C5qRycDi",
        "outputId": "b8e0a6d6-21b0-47aa-9564-f838813c962b"
      },
      "outputs": [
        {
          "name": "stdout",
          "output_type": "stream",
          "text": [
            "Epoch 1/50\n",
            "  1/232 [..............................] - ETA: 1:24:55 - loss: 145.1792 - accuracy: 0.0625 - recall: 0.0625 - precision: 0.0625"
          ]
        }
      ],
      "source": [
        "model.compile(loss=categorical_crossentropy, optimizer='adam', metrics=['accuracy', 'Recall', 'Precision'])"
      ]
    },
    {
      "cell_type": "code",
      "execution_count": null,
      "metadata": {
        "colab": {
          "base_uri": "https://localhost:8080/"
        },
        "id": "Hput5O3Hyebx",
        "outputId": "6e5ccfe6-d842-4ef9-f69b-678144ffbae8"
      },
      "outputs": [
        {
          "name": "stdout",
          "output_type": "stream",
          "text": [
            "Epoch 1/50\n",
            "232/232 [==============================] - 103s 439ms/step - loss: 509.5956 - accuracy: 0.2724 - recall: 0.1659 - precision: 0.3901 - val_loss: 3.6223 - val_accuracy: 0.1564 - val_recall: 0.0109 - val_precision: 0.1463\n",
            "Epoch 2/50\n",
            "232/232 [==============================] - 101s 437ms/step - loss: 2.0401 - accuracy: 0.2955 - recall: 0.1466 - precision: 0.8346 - val_loss: 3.4349 - val_accuracy: 0.0733 - val_recall: 0.0067 - val_precision: 0.0667\n",
            "Epoch 3/50\n",
            "232/232 [==============================] - 100s 432ms/step - loss: 1.8466 - accuracy: 0.3483 - recall: 0.1917 - precision: 0.8676 - val_loss: 3.5950 - val_accuracy: 0.0970 - val_recall: 0.0230 - val_precision: 0.1674\n",
            "Epoch 4/50\n",
            "232/232 [==============================] - 102s 438ms/step - loss: 1.6729 - accuracy: 0.3886 - recall: 0.2430 - precision: 0.9008 - val_loss: 3.4567 - val_accuracy: 0.1430 - val_recall: 0.0642 - val_precision: 0.2630\n",
            "Epoch 5/50\n",
            "232/232 [==============================] - 102s 437ms/step - loss: 1.5489 - accuracy: 0.4114 - recall: 0.2609 - precision: 0.9117 - val_loss: 3.0169 - val_accuracy: 0.1206 - val_recall: 0.0370 - val_precision: 0.2337\n",
            "Epoch 6/50\n",
            "232/232 [==============================] - 101s 437ms/step - loss: 1.4417 - accuracy: 0.4585 - recall: 0.2982 - precision: 0.9209 - val_loss: 3.5305 - val_accuracy: 0.1436 - val_recall: 0.0406 - val_precision: 0.1872\n",
            "Epoch 7/50\n",
            "232/232 [==============================] - 101s 435ms/step - loss: 1.3169 - accuracy: 0.5310 - recall: 0.3629 - precision: 0.9175 - val_loss: 3.2722 - val_accuracy: 0.2073 - val_recall: 0.0855 - val_precision: 0.3279\n",
            "Epoch 8/50\n",
            "232/232 [==============================] - 101s 435ms/step - loss: 1.2091 - accuracy: 0.5714 - recall: 0.4026 - precision: 0.9211 - val_loss: 3.4812 - val_accuracy: 0.1836 - val_recall: 0.0830 - val_precision: 0.2848\n",
            "Epoch 9/50\n",
            "232/232 [==============================] - 102s 440ms/step - loss: 1.1384 - accuracy: 0.5995 - recall: 0.4296 - precision: 0.9149 - val_loss: 3.6145 - val_accuracy: 0.1630 - val_recall: 0.0721 - val_precision: 0.2055\n",
            "Epoch 10/50\n",
            "232/232 [==============================] - 101s 435ms/step - loss: 1.1060 - accuracy: 0.6181 - recall: 0.4502 - precision: 0.9161 - val_loss: 3.9673 - val_accuracy: 0.1473 - val_recall: 0.0764 - val_precision: 0.1867\n",
            "Epoch 11/50\n",
            "232/232 [==============================] - 101s 436ms/step - loss: 1.0582 - accuracy: 0.6338 - recall: 0.4722 - precision: 0.9159 - val_loss: 3.6028 - val_accuracy: 0.1594 - val_recall: 0.0582 - val_precision: 0.2336\n",
            "Epoch 12/50\n",
            "232/232 [==============================] - 104s 450ms/step - loss: 1.0684 - accuracy: 0.6433 - recall: 0.4838 - precision: 0.9093 - val_loss: 3.4844 - val_accuracy: 0.1594 - val_recall: 0.0570 - val_precision: 0.1873\n",
            "Epoch 13/50\n",
            "232/232 [==============================] - 101s 434ms/step - loss: 1.0127 - accuracy: 0.6608 - recall: 0.5110 - precision: 0.9048 - val_loss: 4.0202 - val_accuracy: 0.2018 - val_recall: 0.1345 - val_precision: 0.3083\n",
            "Epoch 14/50\n",
            "232/232 [==============================] - 101s 436ms/step - loss: 0.9803 - accuracy: 0.6710 - recall: 0.5318 - precision: 0.8991 - val_loss: 4.0081 - val_accuracy: 0.1139 - val_recall: 0.0794 - val_precision: 0.1607\n",
            "Epoch 15/50\n",
            "232/232 [==============================] - 100s 433ms/step - loss: 0.9677 - accuracy: 0.6843 - recall: 0.5526 - precision: 0.8968 - val_loss: 3.3174 - val_accuracy: 0.2036 - val_recall: 0.1267 - val_precision: 0.2718\n",
            "Epoch 16/50\n",
            "232/232 [==============================] - 100s 432ms/step - loss: 1.0265 - accuracy: 0.6772 - recall: 0.5494 - precision: 0.8751 - val_loss: 3.1090 - val_accuracy: 0.2067 - val_recall: 0.1267 - val_precision: 0.2732\n",
            "Epoch 17/50\n",
            "232/232 [==============================] - 101s 434ms/step - loss: 0.9511 - accuracy: 0.6919 - recall: 0.5779 - precision: 0.8749 - val_loss: 3.1994 - val_accuracy: 0.1703 - val_recall: 0.0952 - val_precision: 0.2357\n",
            "Epoch 18/50\n",
            "232/232 [==============================] - 101s 433ms/step - loss: 0.9204 - accuracy: 0.6889 - recall: 0.5726 - precision: 0.8737 - val_loss: 3.3552 - val_accuracy: 0.1206 - val_recall: 0.0497 - val_precision: 0.1192\n",
            "Epoch 19/50\n",
            "232/232 [==============================] - 100s 431ms/step - loss: 0.8190 - accuracy: 0.7141 - recall: 0.6136 - precision: 0.8895 - val_loss: 3.1205 - val_accuracy: 0.1545 - val_recall: 0.0836 - val_precision: 0.2091\n",
            "Epoch 20/50\n",
            "232/232 [==============================] - 101s 433ms/step - loss: 0.8204 - accuracy: 0.7206 - recall: 0.6260 - precision: 0.8923 - val_loss: 3.5021 - val_accuracy: 0.1867 - val_recall: 0.1145 - val_precision: 0.2330\n",
            "Epoch 21/50\n",
            "232/232 [==============================] - 100s 430ms/step - loss: 0.7359 - accuracy: 0.7386 - recall: 0.6436 - precision: 0.9046 - val_loss: 3.5818 - val_accuracy: 0.1667 - val_recall: 0.0970 - val_precision: 0.1935\n",
            "Epoch 22/50\n",
            "232/232 [==============================] - 100s 432ms/step - loss: 0.7536 - accuracy: 0.7404 - recall: 0.6495 - precision: 0.9073 - val_loss: 3.9990 - val_accuracy: 0.1958 - val_recall: 0.1297 - val_precision: 0.2610\n",
            "Epoch 23/50\n",
            "232/232 [==============================] - 109s 471ms/step - loss: 0.8809 - accuracy: 0.7267 - recall: 0.6347 - precision: 0.8878 - val_loss: 3.6738 - val_accuracy: 0.1382 - val_recall: 0.0636 - val_precision: 0.1247\n",
            "Epoch 24/50\n",
            "232/232 [==============================] - 120s 517ms/step - loss: 0.7596 - accuracy: 0.7380 - recall: 0.6472 - precision: 0.8980 - val_loss: 3.9987 - val_accuracy: 0.1564 - val_recall: 0.0958 - val_precision: 0.1731\n",
            "Epoch 25/50\n",
            "232/232 [==============================] - 102s 439ms/step - loss: 0.8627 - accuracy: 0.7363 - recall: 0.6517 - precision: 0.8954 - val_loss: 3.9021 - val_accuracy: 0.1703 - val_recall: 0.0964 - val_precision: 0.1904\n",
            "Epoch 26/50\n",
            "232/232 [==============================] - 101s 435ms/step - loss: 0.7615 - accuracy: 0.7383 - recall: 0.6504 - precision: 0.8949 - val_loss: 3.5810 - val_accuracy: 0.1267 - val_recall: 0.0515 - val_precision: 0.1288\n",
            "Epoch 27/50\n",
            "232/232 [==============================] - 100s 432ms/step - loss: 0.6705 - accuracy: 0.7597 - recall: 0.6766 - precision: 0.9106 - val_loss: 3.8145 - val_accuracy: 0.1521 - val_recall: 0.0939 - val_precision: 0.1824\n",
            "Epoch 28/50\n",
            "232/232 [==============================] - 100s 431ms/step - loss: 0.6691 - accuracy: 0.7597 - recall: 0.6777 - precision: 0.9109 - val_loss: 4.8183 - val_accuracy: 0.1848 - val_recall: 0.1400 - val_precision: 0.2163\n",
            "Epoch 29/50\n",
            "232/232 [==============================] - 100s 429ms/step - loss: 0.7598 - accuracy: 0.7444 - recall: 0.6534 - precision: 0.9014 - val_loss: 4.3649 - val_accuracy: 0.1212 - val_recall: 0.0594 - val_precision: 0.1034\n",
            "Epoch 30/50\n",
            "232/232 [==============================] - 100s 429ms/step - loss: 0.7266 - accuracy: 0.7504 - recall: 0.6642 - precision: 0.9026 - val_loss: 4.5197 - val_accuracy: 0.2127 - val_recall: 0.1570 - val_precision: 0.2374\n",
            "Epoch 31/50\n",
            "232/232 [==============================] - 99s 428ms/step - loss: 0.6505 - accuracy: 0.7696 - recall: 0.6908 - precision: 0.9176 - val_loss: 5.6477 - val_accuracy: 0.1091 - val_recall: 0.0606 - val_precision: 0.1008\n",
            "Epoch 32/50\n",
            "232/232 [==============================] - 100s 430ms/step - loss: 0.7561 - accuracy: 0.7388 - recall: 0.6549 - precision: 0.8981 - val_loss: 3.6834 - val_accuracy: 0.2048 - val_recall: 0.1418 - val_precision: 0.2665\n",
            "Epoch 33/50\n",
            "232/232 [==============================] - 103s 444ms/step - loss: 0.6987 - accuracy: 0.7588 - recall: 0.6824 - precision: 0.9083 - val_loss: 5.0099 - val_accuracy: 0.1685 - val_recall: 0.1285 - val_precision: 0.1954\n",
            "Epoch 34/50\n",
            "232/232 [==============================] - 99s 428ms/step - loss: 0.6803 - accuracy: 0.7639 - recall: 0.6833 - precision: 0.9157 - val_loss: 5.0385 - val_accuracy: 0.1758 - val_recall: 0.1255 - val_precision: 0.2068\n",
            "Epoch 35/50\n",
            "232/232 [==============================] - 99s 429ms/step - loss: 0.7160 - accuracy: 0.7519 - recall: 0.6710 - precision: 0.9064 - val_loss: 4.7621 - val_accuracy: 0.2479 - val_recall: 0.1703 - val_precision: 0.3390\n",
            "Epoch 36/50\n",
            "232/232 [==============================] - 99s 429ms/step - loss: 0.7056 - accuracy: 0.7553 - recall: 0.6758 - precision: 0.9046 - val_loss: 5.3000 - val_accuracy: 0.1491 - val_recall: 0.1115 - val_precision: 0.1688\n",
            "Epoch 37/50\n",
            "232/232 [==============================] - 100s 430ms/step - loss: 0.6451 - accuracy: 0.7688 - recall: 0.6936 - precision: 0.9165 - val_loss: 4.1494 - val_accuracy: 0.2000 - val_recall: 0.1339 - val_precision: 0.2631\n",
            "Epoch 38/50\n",
            "232/232 [==============================] - 99s 428ms/step - loss: 0.6287 - accuracy: 0.7731 - recall: 0.6997 - precision: 0.9197 - val_loss: 4.4539 - val_accuracy: 0.2291 - val_recall: 0.1691 - val_precision: 0.2830\n",
            "Epoch 39/50\n",
            "232/232 [==============================] - 100s 431ms/step - loss: 0.6323 - accuracy: 0.7727 - recall: 0.6987 - precision: 0.9196 - val_loss: 7.2113 - val_accuracy: 0.1970 - val_recall: 0.1830 - val_precision: 0.2320\n",
            "Epoch 40/50\n",
            "232/232 [==============================] - 99s 427ms/step - loss: 0.6807 - accuracy: 0.7612 - recall: 0.6834 - precision: 0.9084 - val_loss: 4.9697 - val_accuracy: 0.1806 - val_recall: 0.1327 - val_precision: 0.2076\n",
            "Epoch 41/50\n",
            "232/232 [==============================] - 100s 429ms/step - loss: 0.6737 - accuracy: 0.7631 - recall: 0.6839 - precision: 0.9090 - val_loss: 3.3679 - val_accuracy: 0.1927 - val_recall: 0.1024 - val_precision: 0.2770\n",
            "Epoch 42/50\n",
            "232/232 [==============================] - 100s 432ms/step - loss: 0.6108 - accuracy: 0.7746 - recall: 0.7006 - precision: 0.9168 - val_loss: 5.8621 - val_accuracy: 0.1400 - val_recall: 0.0952 - val_precision: 0.1670\n",
            "Epoch 43/50\n",
            "232/232 [==============================] - 99s 427ms/step - loss: 0.6287 - accuracy: 0.7676 - recall: 0.6914 - precision: 0.9126 - val_loss: 6.5087 - val_accuracy: 0.1358 - val_recall: 0.1036 - val_precision: 0.1570\n",
            "Epoch 44/50\n",
            "232/232 [==============================] - 99s 428ms/step - loss: 0.6114 - accuracy: 0.7827 - recall: 0.7076 - precision: 0.9216 - val_loss: 4.1733 - val_accuracy: 0.1333 - val_recall: 0.0830 - val_precision: 0.1545\n",
            "Epoch 45/50\n",
            "232/232 [==============================] - 100s 430ms/step - loss: 0.6318 - accuracy: 0.7702 - recall: 0.6985 - precision: 0.9091 - val_loss: 3.8637 - val_accuracy: 0.1673 - val_recall: 0.0897 - val_precision: 0.1818\n",
            "Epoch 46/50\n",
            "232/232 [==============================] - 100s 430ms/step - loss: 0.7145 - accuracy: 0.7495 - recall: 0.6674 - precision: 0.8976 - val_loss: 5.2748 - val_accuracy: 0.1558 - val_recall: 0.1115 - val_precision: 0.1778\n",
            "Epoch 47/50\n",
            "232/232 [==============================] - 99s 428ms/step - loss: 0.6260 - accuracy: 0.7779 - recall: 0.7054 - precision: 0.9132 - val_loss: 5.2219 - val_accuracy: 0.2067 - val_recall: 0.1424 - val_precision: 0.2221\n",
            "Epoch 48/50\n",
            "232/232 [==============================] - 99s 428ms/step - loss: 0.6675 - accuracy: 0.7723 - recall: 0.6961 - precision: 0.9104 - val_loss: 4.9735 - val_accuracy: 0.1600 - val_recall: 0.1224 - val_precision: 0.1931\n",
            "Epoch 49/50\n",
            "232/232 [==============================] - 99s 428ms/step - loss: 0.6420 - accuracy: 0.7739 - recall: 0.7004 - precision: 0.9086 - val_loss: 4.7418 - val_accuracy: 0.1479 - val_recall: 0.1073 - val_precision: 0.1640\n",
            "Epoch 50/50\n",
            "232/232 [==============================] - 100s 429ms/step - loss: 0.6148 - accuracy: 0.7860 - recall: 0.7198 - precision: 0.9176 - val_loss: 6.6518 - val_accuracy: 0.1867 - val_recall: 0.1667 - val_precision: 0.2495\n"
          ]
        }
      ],
      "source": [
        "history = model.fit(\n",
        "    train_generator,\n",
        "    batch_size=64,\n",
        "    epochs=50,\n",
        "    validation_data=val_generator\n",
        ")"
      ]
    },
    {
      "cell_type": "code",
      "execution_count": null,
      "metadata": {
        "colab": {
          "base_uri": "https://localhost:8080/",
          "height": 803
        },
        "id": "TTN7Q70FyhlF",
        "outputId": "ed5db838-df99-406d-ed9f-e12d44f3c196"
      },
      "outputs": [
        {
          "data": {
            "image/png": "[encoded data removed]",
            "text/plain": [
              "<Figure size 432x288 with 1 Axes>"
            ]
          },
          "metadata": {},
          "output_type": "display_data"
        },
        {
          "data": {
            "image/png": "[encoded data removed]",
            "text/plain": [
              "<Figure size 432x288 with 1 Axes>"
            ]
          },
          "metadata": {},
          "output_type": "display_data"
        },
        {
          "data": {
            "image/png": "[encoded data removed]",
            "text/plain": [
              "<Figure size 432x288 with 1 Axes>"
            ]
          },
          "metadata": {},
          "output_type": "display_data"
        }
      ],
      "source": [
        "plot_metrics(history)"
      ]
    },
    {
      "cell_type": "markdown",
      "metadata": {
        "id": "o3ak06JP10Ov"
      },
      "source": [
        "## Additional Model Testing"
      ]
    },
    {
      "cell_type": "markdown",
      "metadata": {
        "id": "gj83NrZ-sXVs"
      },
      "source": [
        "### Model 1 Iterations - NA: Added EfficientNetB0 and Prelu layer"
      ]
    },
    {
      "cell_type": "code",
      "execution_count": null,
      "metadata": {
        "id": "Oy-65g3H9nyJ"
      },
      "outputs": [],
      "source": [
        "from keras.utils.traceback_utils import include_frame\n",
        "# image Gen stuff\n",
        "# ['antelope_duiker',\t'bird',\t'blank', 'civet_genet', 'hog', 'leopard', 'monkey_prosimian','rodent']\n",
        "img_gen = ImageDataGenerator(\n",
        "        brightness_range=[.4, 1.2],\n",
        "        height_shift_range=.4,\n",
        ")\n",
        "val_generator = img_gen.flow_from_dataframe(\n",
        "    validation_set, \n",
        "    directory=train_path, \n",
        "    x_col='filename', \n",
        "    y_col='animal_classification', \n",
        "    target_size=(256, 256), \n",
        "    class_mode='categorical',\n",
        "    batch_size=32\n",
        ")\n",
        "train_generator = img_gen.flow_from_dataframe(\n",
        "    train_set, \n",
        "    directory=train_path, \n",
        "    x_col='filename', \n",
        "    y_col='animal_classification', \n",
        "    target_size=(256, 256), \n",
        "    class_mode='categorical',\n",
        "    batch_size=32\n",
        ")"
      ]
    },
    {
      "cell_type": "code",
      "execution_count": 3,
      "metadata": {
        "colab": {
          "base_uri": "https://localhost:8080/",
          "height": 416
        },
        "id": "lBvxXkbuDTJn",
        "outputId": "ded16930-9d78-4f18-9c61-85daabeef57d"
      },
      "outputs": [],
      "source": [
        "model2 = Sequential()\n",
        "# layers\n",
        "model2.add(EfficientNetB0(include_top=False, weights='imagenet', input_shape=(256, 256, 3)))\n",
        "model2.add(PReLU(alpha_initializer=Constant(value=0.25)))\n",
        "model2.add(GlobalAveragePooling2D())\n",
        "model2.add(Flatten())\n",
        "model2.add(Dense(units=128, activation='relu'))\n",
        "model2.add(Dropout(0.6))\n",
        "model2.add(Dense(units=32, activation='relu'))\n",
        "model2.add(Dropout(0.3))\n",
        "# output layer\n",
        "model2.add(Dense(units=8, activation='softmax'))\n",
        "\n",
        "model2.compile(loss=categorical_crossentropy, optimizer='adam', metrics=['accuracy', 'Recall', 'Precision'])\n",
        "callback = [EarlyStopping(monitor='val_accuracy', patience=20)]\n",
        "history2 = model2.fit(\n",
        "    train_generator,\n",
        "    batch_size=32,\n",
        "    epochs=100,\n",
        "    validation_data=val_generator,\n",
        "    callbacks=callback\n",
        ")"
      ]
    },
    {
      "cell_type": "code",
      "execution_count": null,
      "metadata": {
        "colab": {
          "base_uri": "https://localhost:8080/",
          "height": 803
        },
        "id": "QNgFWI3JsRXr",
        "outputId": "f9d7f372-4fef-4774-8649-25a0cf7f3cc8"
      },
      "outputs": [
        {
          "data": {
            "image/png": "[encoded data removed]",
            "text/plain": [
              "<Figure size 432x288 with 1 Axes>"
            ]
          },
          "metadata": {
            "needs_background": "light"
          },
          "output_type": "display_data"
        },
        {
          "data": {
            "image/png": "[encoded data removed]",
            "text/plain": [
              "<Figure size 432x288 with 1 Axes>"
            ]
          },
          "metadata": {
            "needs_background": "light"
          },
          "output_type": "display_data"
        },
        {
          "data": {
            "image/png": "[encoded data removed]",
            "text/plain": [
              "<Figure size 432x288 with 1 Axes>"
            ]
          },
          "metadata": {
            "needs_background": "light"
          },
          "output_type": "display_data"
        }
      ],
      "source": [
        "plot_metrics(history2)"
      ]
    },
    {
      "cell_type": "markdown",
      "metadata": {
        "id": "jlMDctWdRe40"
      },
      "source": [
        "Model seems to be missing the mark in all metrics."
      ]
    },
    {
      "cell_type": "markdown",
      "metadata": {
        "id": "sofmpcphRf59"
      },
      "source": [
        "### Model 2 Iterations - NA: Added Aditional Dense and Dropout Layer longer  Patience on callback"
      ]
    },
    {
      "cell_type": "code",
      "execution_count": null,
      "metadata": {
        "colab": {
          "base_uri": "https://localhost:8080/"
        },
        "id": "sBjC1mkX9qzM",
        "outputId": "c08fbf2c-f6ed-4c1c-c01c-2551049858b6"
      },
      "outputs": [
        {
          "name": "stdout",
          "output_type": "stream",
          "text": [
            "Found 1650 validated image filenames belonging to 8 classes.\n",
            "Found 14838 validated image filenames belonging to 8 classes.\n"
          ]
        }
      ],
      "source": [
        "from keras.utils.traceback_utils import include_frame\n",
        "# image Gen stuff\n",
        "# ['antelope_duiker',\t'bird',\t'blank', 'civet_genet', 'hog', 'leopard', 'monkey_prosimian','rodent']\n",
        "img_gen = ImageDataGenerator(\n",
        "        brightness_range=[.4, 1.2],\n",
        "        height_shift_range=.4,\n",
        "        horizontal_flip=True,\n",
        ")\n",
        "val_generator = img_gen.flow_from_dataframe(\n",
        "    validation_set, \n",
        "    directory=train_path, \n",
        "    x_col='filename', \n",
        "    y_col='animal_classification', \n",
        "    target_size=(256, 256), \n",
        "    class_mode='categorical',\n",
        "    batch_size=32\n",
        ")\n",
        "train_generator = img_gen.flow_from_dataframe(\n",
        "    train_set, \n",
        "    directory=train_path, \n",
        "    x_col='filename', \n",
        "    y_col='animal_classification', \n",
        "    target_size=(256, 256), \n",
        "    class_mode='categorical',\n",
        "    batch_size=32\n",
        ")"
      ]
    },
    {
      "cell_type": "code",
      "execution_count": null,
      "metadata": {
        "colab": {
          "base_uri": "https://localhost:8080/"
        },
        "id": "rstxa2cpwCWn",
        "outputId": "530de606-3f4a-41d5-c04d-ed3eb5ce3722"
      },
      "outputs": [
        {
          "data": {
            "text/plain": [
              "keras.preprocessing.image.DataFrameIterator"
            ]
          },
          "execution_count": 124,
          "metadata": {},
          "output_type": "execute_result"
        }
      ],
      "source": []
    },
    {
      "cell_type": "code",
      "execution_count": 4,
      "metadata": {
        "colab": {
          "base_uri": "https://localhost:8080/",
          "height": 1000
        },
        "id": "RKrGfy707JQD",
        "outputId": "0b7ea237-b992-4908-a70a-fc11a5efaa10"
      },
      "outputs": [],
      "source": [
        "model3 = Sequential()\n",
        "# input layers\n",
        "model3.add(EfficientNetB0(include_top=False, weights='imagenet', input_shape=(256, 256, 3)))\n",
        "model3.add(PReLU(alpha_initializer=Constant(value=0.25)))\n",
        "model3.add(GlobalAveragePooling2D())\n",
        "model3.add(Flatten())\n",
        "model3.add(Dropout(0.8))\n",
        "\n",
        "# hidden layers\n",
        "# 1\n",
        "model3.add(Dense(units=128, activation='relu'))\n",
        "model3.add(Dropout(0.7))\n",
        "# 2\n",
        "model3.add(Dense(units=128, activation='relu'))\n",
        "model3.add(Dropout(0.6))\n",
        "# 3\n",
        "model3.add(Dense(units=32, activation='relu'))\n",
        "model3.add(Dropout(0.5))\n",
        "# 4 \n",
        "# model3.add(Dense(units=64, activation='relu'))\n",
        "# model3.add(Dropout(0.7))\n",
        "\n",
        "# output layer\n",
        "model3.add(Dense(units=8, activation='softmax'))\n",
        "\n",
        "model3.compile(loss=categorical_crossentropy, optimizer='adam', metrics=['accuracy', 'Recall', 'Precision'])\n",
        "callback = [EarlyStopping(monitor='val_loss', patience=20)]\n",
        "history3 = model3.fit(\n",
        "    train_generator,\n",
        "    batch_size=32,\n",
        "    epochs=100,\n",
        "    validation_data=val_generator,\n",
        "    callbacks=callback\n",
        ")"
      ]
    },
    {
      "cell_type": "code",
      "execution_count": 5,
      "metadata": {
        "colab": {
          "base_uri": "https://localhost:8080/",
          "height": 166
        },
        "id": "7dwQwuJ67PFI",
        "outputId": "38eea768-4d87-4907-c19e-6fccb29e8bd1"
      },
      "outputs": [],
      "source": [
        "plot_metrics(history3)"
      ]
    },
    {
      "cell_type": "markdown",
      "metadata": {
        "id": "Fga37w2rRuo1"
      },
      "source": [
        "Taï National Park also hosts an exceptional diversity of forest duikers including Jentink's duiker, banded or zebra duiker, Maxwell's duiker, Ogilby's duiker, black duiker, bay duiker, yellow-backed duiker and the royal antelope.\n",
        "\n",
        "Forest rodents include the rusty-bellied brush-furred rat, the Edward's swamp rat and the woodland dormouse. Also recorded in the park is the Defua rat, which is characteristic of secondary forest."
      ]
    },
    {
      "cell_type": "code",
      "execution_count": null,
      "metadata": {
        "colab": {
          "base_uri": "https://localhost:8080/"
        },
        "id": "eHpnJGvxt2Ni",
        "outputId": "4385aa20-77c3-4357-d633-88999157e8e3"
      },
      "outputs": [
        {
          "name": "stdout",
          "output_type": "stream",
          "text": [
            "Found 1650 validated image filenames belonging to 8 classes.\n",
            "Found 14838 validated image filenames belonging to 8 classes.\n"
          ]
        }
      ],
      "source": [
        "from keras.utils.traceback_utils import include_frame\n",
        "# image Gen stuff\n",
        "# ['antelope_duiker',\t'bird',\t'blank', 'civet_genet', 'hog', 'leopard', 'monkey_prosimian','rodent']\n",
        "img_gen = ImageDataGenerator(\n",
        "        height_shift_range=0.07,\n",
        "        horizontal_flip=True,\n",
        "        preprocessing_function=tensorflow.image.rgb_to_grayscale,\n",
        ")\n",
        "val_generator = img_gen.flow_from_dataframe(\n",
        "    validation_set, \n",
        "    directory=train_path, \n",
        "    x_col='filename', \n",
        "    y_col='animal_classification', \n",
        "    target_size=(256, 256), \n",
        "    class_mode='categorical',\n",
        "    batch_size=32,\n",
        ")\n",
        "train_generator = img_gen.flow_from_dataframe(\n",
        "    train_set, \n",
        "    directory=train_path, \n",
        "    x_col='filename', \n",
        "    y_col='animal_classification', \n",
        "    target_size=(256, 256), \n",
        "    class_mode='categorical',\n",
        "    batch_size=32,\n",
        ")"
      ]
    },
    {
      "cell_type": "code",
      "execution_count": null,
      "metadata": {
        "colab": {
          "base_uri": "https://localhost:8080/"
        },
        "id": "YZb0ZEwPt3NB",
        "outputId": "80bfdefa-fa5f-40d3-c5c8-6d97dc109629"
      },
      "outputs": [
        {
          "name": "stdout",
          "output_type": "stream",
          "text": [
            "Epoch 1/100\n",
            "464/464 [==============================] - 481s 1s/step - loss: 2.0622 - accuracy: 0.1925 - recall: 0.0181 - precision: 0.4991 - val_loss: 1.8987 - val_accuracy: 0.1673 - val_recall: 0.0964 - val_precision: 0.4251\n",
            "Epoch 2/100\n",
            "464/464 [==============================] - 469s 1s/step - loss: 1.8156 - accuracy: 0.2818 - recall: 0.0807 - precision: 0.7021 - val_loss: 1.7812 - val_accuracy: 0.2727 - val_recall: 0.0933 - val_precision: 0.4503\n",
            "Epoch 3/100\n",
            "464/464 [==============================] - 469s 1s/step - loss: 1.6804 - accuracy: 0.3426 - recall: 0.1304 - precision: 0.7425 - val_loss: 1.7252 - val_accuracy: 0.2848 - val_recall: 0.0867 - val_precision: 0.4751\n",
            "Epoch 4/100\n",
            "464/464 [==============================] - 468s 1s/step - loss: 1.6510 - accuracy: 0.3550 - recall: 0.1357 - precision: 0.7645 - val_loss: 1.7185 - val_accuracy: 0.3024 - val_recall: 0.0030 - val_precision: 0.1515\n",
            "Epoch 5/100\n",
            "464/464 [==============================] - 469s 1s/step - loss: 1.5456 - accuracy: 0.3967 - recall: 0.1750 - precision: 0.7942 - val_loss: 1.6084 - val_accuracy: 0.3739 - val_recall: 0.1461 - val_precision: 0.6071\n",
            "Epoch 6/100\n",
            "464/464 [==============================] - 469s 1s/step - loss: 1.4635 - accuracy: 0.4145 - recall: 0.1977 - precision: 0.8225 - val_loss: 1.9027 - val_accuracy: 0.1958 - val_recall: 0.0103 - val_precision: 0.6538\n",
            "Epoch 7/100\n",
            "464/464 [==============================] - 469s 1s/step - loss: 1.4284 - accuracy: 0.4302 - recall: 0.2046 - precision: 0.8168 - val_loss: 1.6266 - val_accuracy: 0.3661 - val_recall: 0.1758 - val_precision: 0.5992\n",
            "Epoch 8/100\n",
            "464/464 [==============================] - 469s 1s/step - loss: 1.3529 - accuracy: 0.4530 - recall: 0.2237 - precision: 0.8308 - val_loss: 1.6619 - val_accuracy: 0.3339 - val_recall: 0.0836 - val_precision: 0.6603\n",
            "Epoch 9/100\n",
            "464/464 [==============================] - 469s 1s/step - loss: 1.3388 - accuracy: 0.4608 - recall: 0.2208 - precision: 0.8313 - val_loss: 1.4964 - val_accuracy: 0.4048 - val_recall: 0.1630 - val_precision: 0.6642\n",
            "Epoch 10/100\n",
            "464/464 [==============================] - 469s 1s/step - loss: 1.3237 - accuracy: 0.4629 - recall: 0.2243 - precision: 0.8370 - val_loss: 1.4227 - val_accuracy: 0.3988 - val_recall: 0.2315 - val_precision: 0.6377\n",
            "Epoch 11/100\n",
            "464/464 [==============================] - 469s 1s/step - loss: 1.3613 - accuracy: 0.4601 - recall: 0.2180 - precision: 0.8402 - val_loss: 1.5616 - val_accuracy: 0.3612 - val_recall: 0.1564 - val_precision: 0.6632\n",
            "Epoch 12/100\n",
            "464/464 [==============================] - 468s 1s/step - loss: 1.2615 - accuracy: 0.4829 - recall: 0.2401 - precision: 0.8473 - val_loss: 1.6829 - val_accuracy: 0.3867 - val_recall: 0.1188 - val_precision: 0.6555\n",
            "Epoch 13/100\n",
            "464/464 [==============================] - 468s 1s/step - loss: 1.2373 - accuracy: 0.4988 - recall: 0.2552 - precision: 0.8406 - val_loss: 1.5135 - val_accuracy: 0.3661 - val_recall: 0.1370 - val_precision: 0.6667\n",
            "Epoch 14/100\n",
            "464/464 [==============================] - 468s 1s/step - loss: 1.1678 - accuracy: 0.5272 - recall: 0.2825 - precision: 0.8311 - val_loss: 1.6385 - val_accuracy: 0.3667 - val_recall: 0.1133 - val_precision: 0.5881\n",
            "Epoch 15/100\n",
            "464/464 [==============================] - 466s 1s/step - loss: 1.1956 - accuracy: 0.5237 - recall: 0.2780 - precision: 0.8133 - val_loss: 1.7422 - val_accuracy: 0.4267 - val_recall: 0.1600 - val_precision: 0.6600\n",
            "Epoch 16/100\n",
            "464/464 [==============================] - 468s 1s/step - loss: 1.1248 - accuracy: 0.5537 - recall: 0.3201 - precision: 0.8200 - val_loss: 1.4112 - val_accuracy: 0.4673 - val_recall: 0.2491 - val_precision: 0.6873\n",
            "Epoch 17/100\n",
            "464/464 [==============================] - 467s 1s/step - loss: 1.0883 - accuracy: 0.5772 - recall: 0.3476 - precision: 0.8165 - val_loss: 1.5186 - val_accuracy: 0.4400 - val_recall: 0.3121 - val_precision: 0.6750\n",
            "Epoch 18/100\n",
            "464/464 [==============================] - 468s 1s/step - loss: 1.0556 - accuracy: 0.5840 - recall: 0.3721 - precision: 0.8270 - val_loss: 1.4349 - val_accuracy: 0.4424 - val_recall: 0.2788 - val_precision: 0.7757\n",
            "Epoch 19/100\n",
            "464/464 [==============================] - 467s 1s/step - loss: 1.0415 - accuracy: 0.5956 - recall: 0.3806 - precision: 0.8319 - val_loss: 1.6724 - val_accuracy: 0.4224 - val_recall: 0.2606 - val_precision: 0.6804\n",
            "Epoch 20/100\n",
            "464/464 [==============================] - 468s 1s/step - loss: 1.0303 - accuracy: 0.6020 - recall: 0.3821 - precision: 0.8378 - val_loss: 2.0708 - val_accuracy: 0.3255 - val_recall: 0.1842 - val_precision: 0.6741\n",
            "Epoch 21/100\n",
            "464/464 [==============================] - 465s 1s/step - loss: 0.9640 - accuracy: 0.6224 - recall: 0.4147 - precision: 0.8417 - val_loss: 2.1716 - val_accuracy: 0.3206 - val_recall: 0.2182 - val_precision: 0.6196\n",
            "Epoch 22/100\n",
            "464/464 [==============================] - 466s 1s/step - loss: 0.9387 - accuracy: 0.6250 - recall: 0.4154 - precision: 0.8415 - val_loss: 1.8096 - val_accuracy: 0.4588 - val_recall: 0.3067 - val_precision: 0.7541\n",
            "Epoch 23/100\n",
            "464/464 [==============================] - 466s 1s/step - loss: 0.9414 - accuracy: 0.6367 - recall: 0.4298 - precision: 0.8297 - val_loss: 2.1411 - val_accuracy: 0.3758 - val_recall: 0.2406 - val_precision: 0.5336\n",
            "Epoch 24/100\n",
            "464/464 [==============================] - 466s 1s/step - loss: 0.9101 - accuracy: 0.6447 - recall: 0.4400 - precision: 0.8344 - val_loss: 2.0788 - val_accuracy: 0.4376 - val_recall: 0.2776 - val_precision: 0.6765\n",
            "Epoch 25/100\n",
            "464/464 [==============================] - 466s 1s/step - loss: 0.9010 - accuracy: 0.6460 - recall: 0.4433 - precision: 0.8304 - val_loss: 1.7564 - val_accuracy: 0.4479 - val_recall: 0.2970 - val_precision: 0.6970\n",
            "Epoch 26/100\n",
            "464/464 [==============================] - 465s 1s/step - loss: 0.8580 - accuracy: 0.6630 - recall: 0.4736 - precision: 0.8082 - val_loss: 2.5717 - val_accuracy: 0.3418 - val_recall: 0.1970 - val_precision: 0.6121\n"
          ]
        }
      ],
      "source": [
        "model3 = Sequential()\n",
        "# input layers\n",
        "model3.add(EfficientNetB0(include_top=False, weights='imagenet', input_shape=(256, 256, 3)))\n",
        "model3.add(PReLU(alpha_initializer=Constant(value=0.25)))\n",
        "model3.add(GlobalAveragePooling2D())\n",
        "model3.add(Flatten())\n",
        "model3.add(Dropout(0.8))\n",
        "\n",
        "# hidden layers\n",
        "# 1\n",
        "model3.add(Dense(units=128, activation='relu'))\n",
        "model3.add(Dropout(0.7))\n",
        "# 2\n",
        "model3.add(Dense(units=128, activation='relu'))\n",
        "model3.add(Dropout(0.6))\n",
        "# 3\n",
        "model3.add(Dense(units=32, activation='relu'))\n",
        "model3.add(Dropout(0.5))\n",
        "# 4 \n",
        "# model3.add(Dense(units=32, activation='relu'))\n",
        "# model3.add(Dropout(0.5))\n",
        "\n",
        "# output layer\n",
        "model3.add(Dense(units=8, activation='softmax'))\n",
        "\n",
        "model3.compile(loss=categorical_crossentropy, optimizer='adam', metrics=['accuracy', 'Recall', 'Precision'])\n",
        "callback = [EarlyStopping(monitor='val_loss', patience=10)]\n",
        "history3 = model3.fit(\n",
        "    train_generator,\n",
        "    batch_size=32,\n",
        "    epochs=100,\n",
        "    validation_data=val_generator,\n",
        "    callbacks=callback\n",
        ")"
      ]
    },
    {
      "cell_type": "code",
      "execution_count": null,
      "metadata": {
        "colab": {
          "base_uri": "https://localhost:8080/",
          "height": 803
        },
        "id": "Qx94CIISugAi",
        "outputId": "8e672d91-da60-4a1d-865a-6c1fdc10b004"
      },
      "outputs": [
        {
          "data": {
            "image/png": "[encoded data removed]",
            "text/plain": [
              "<Figure size 432x288 with 1 Axes>"
            ]
          },
          "metadata": {
            "needs_background": "light"
          },
          "output_type": "display_data"
        },
        {
          "data": {
            "image/png": "[encoded data removed]",
            "text/plain": [
              "<Figure size 432x288 with 1 Axes>"
            ]
          },
          "metadata": {
            "needs_background": "light"
          },
          "output_type": "display_data"
        },
        {
          "data": {
            "image/png": "[encoded data removed]",
            "text/plain": [
              "<Figure size 432x288 with 1 Axes>"
            ]
          },
          "metadata": {
            "needs_background": "light"
          },
          "output_type": "display_data"
        }
      ],
      "source": [
        "plot_metrics(history3)"
      ]
    },
    {
      "cell_type": "code",
      "execution_count": null,
      "metadata": {
        "colab": {
          "base_uri": "https://localhost:8080/"
        },
        "id": "eOujWRQWvAzX",
        "outputId": "05675238-bf03-45fa-e8ae-b0aa842855cc"
      },
      "outputs": [
        {
          "name": "stdout",
          "output_type": "stream",
          "text": [
            "Found 1650 validated image filenames belonging to 8 classes.\n",
            "Found 14838 validated image filenames belonging to 8 classes.\n"
          ]
        }
      ],
      "source": [
        "from keras.utils.traceback_utils import include_frame\n",
        "# image Gen stuff\n",
        "# ['antelope_duiker',\t'bird',\t'blank', 'civet_genet', 'hog', 'leopard', 'monkey_prosimian','rodent']\n",
        "img_gen_val = ImageDataGenerator()\n",
        "val_generator = img_gen_val.flow_from_dataframe(\n",
        "    validation_set, \n",
        "    directory=train_path, \n",
        "    x_col='filename', \n",
        "    y_col='animal_classification', \n",
        "    target_size=(256, 256), \n",
        "    class_mode='categorical',\n",
        "    batch_size=32,\n",
        ")\n",
        "img_gen_train = ImageDataGenerator(\n",
        "        height_shift_range=0.07,\n",
        "        horizontal_flip=True,\n",
        "        preprocessing_function=tensorflow.image.rgb_to_grayscale,\n",
        ")\n",
        "train_generator = img_gen_train.flow_from_dataframe(\n",
        "    train_set, \n",
        "    directory=train_path, \n",
        "    x_col='filename', \n",
        "    y_col='animal_classification', \n",
        "    target_size=(256, 256), \n",
        "    class_mode='categorical',\n",
        "    batch_size=32,\n",
        ")"
      ]
    },
    {
      "cell_type": "code",
      "execution_count": null,
      "metadata": {
        "colab": {
          "base_uri": "https://localhost:8080/"
        },
        "id": "hTz_OvM3vBSz",
        "outputId": "75dd9409-b7ab-4cdb-fae6-cf4f558b589e"
      },
      "outputs": [
        {
          "name": "stdout",
          "output_type": "stream",
          "text": [
            "Epoch 1/50\n",
            "464/464 [==============================] - 391s 825ms/step - loss: 1.9419 - accuracy: 0.2557 - recall: 0.0621 - precision: 0.7198 - val_loss: 1.9365 - val_accuracy: 0.1509 - val_recall: 0.0709 - val_precision: 0.9512\n",
            "Epoch 2/50\n",
            "464/464 [==============================] - 385s 829ms/step - loss: 1.6939 - accuracy: 0.3494 - recall: 0.1417 - precision: 0.7756 - val_loss: 1.7405 - val_accuracy: 0.3479 - val_recall: 0.0594 - val_precision: 0.5939\n",
            "Epoch 3/50\n",
            "464/464 [==============================] - 382s 823ms/step - loss: 1.5382 - accuracy: 0.3917 - recall: 0.1867 - precision: 0.8371 - val_loss: 1.5475 - val_accuracy: 0.3939 - val_recall: 0.1103 - val_precision: 0.9630\n",
            "Epoch 4/50\n",
            "464/464 [==============================] - 378s 814ms/step - loss: 1.4996 - accuracy: 0.4049 - recall: 0.1892 - precision: 0.8543 - val_loss: 1.5915 - val_accuracy: 0.4133 - val_recall: 0.0970 - val_precision: 0.8840\n",
            "Epoch 5/50\n",
            "464/464 [==============================] - 377s 813ms/step - loss: 1.4507 - accuracy: 0.4207 - recall: 0.2036 - precision: 0.8636 - val_loss: 1.6834 - val_accuracy: 0.4055 - val_recall: 0.0933 - val_precision: 0.8462\n",
            "Epoch 6/50\n",
            "464/464 [==============================] - 380s 819ms/step - loss: 1.4083 - accuracy: 0.4314 - recall: 0.2111 - precision: 0.8739 - val_loss: 1.4954 - val_accuracy: 0.4782 - val_recall: 0.1000 - val_precision: 0.9322\n",
            "Epoch 7/50\n",
            "464/464 [==============================] - 382s 824ms/step - loss: 1.4163 - accuracy: 0.4346 - recall: 0.2095 - precision: 0.8669 - val_loss: 1.7466 - val_accuracy: 0.3497 - val_recall: 0.0642 - val_precision: 0.9907\n",
            "Epoch 8/50\n",
            "464/464 [==============================] - 384s 827ms/step - loss: 1.3739 - accuracy: 0.4493 - recall: 0.2205 - precision: 0.8707 - val_loss: 1.5447 - val_accuracy: 0.4667 - val_recall: 0.1067 - val_precision: 0.9119\n",
            "Epoch 9/50\n",
            "464/464 [==============================] - 377s 813ms/step - loss: 1.3508 - accuracy: 0.4574 - recall: 0.2264 - precision: 0.8738 - val_loss: 1.6742 - val_accuracy: 0.4479 - val_recall: 0.0382 - val_precision: 0.9403\n",
            "Epoch 10/50\n",
            "464/464 [==============================] - 378s 815ms/step - loss: 1.3316 - accuracy: 0.4647 - recall: 0.2355 - precision: 0.8748 - val_loss: 1.4551 - val_accuracy: 0.5097 - val_recall: 0.1473 - val_precision: 0.9681\n",
            "Epoch 11/50\n",
            "464/464 [==============================] - 375s 807ms/step - loss: 1.2857 - accuracy: 0.4793 - recall: 0.2520 - precision: 0.8930 - val_loss: 1.5661 - val_accuracy: 0.4733 - val_recall: 0.1255 - val_precision: 0.9079\n",
            "Epoch 12/50\n",
            "464/464 [==============================] - 381s 822ms/step - loss: 1.2756 - accuracy: 0.4863 - recall: 0.2594 - precision: 0.9101 - val_loss: 1.5699 - val_accuracy: 0.4764 - val_recall: 0.1455 - val_precision: 0.8633\n",
            "Epoch 13/50\n",
            "464/464 [==============================] - 378s 814ms/step - loss: 1.2584 - accuracy: 0.4946 - recall: 0.2630 - precision: 0.9081 - val_loss: 1.6188 - val_accuracy: 0.4412 - val_recall: 0.1236 - val_precision: 0.8127\n",
            "Epoch 14/50\n",
            "464/464 [==============================] - 370s 797ms/step - loss: 1.2367 - accuracy: 0.4999 - recall: 0.2691 - precision: 0.9137 - val_loss: 1.8551 - val_accuracy: 0.4012 - val_recall: 0.1242 - val_precision: 0.7537\n",
            "Epoch 15/50\n",
            "464/464 [==============================] - 372s 802ms/step - loss: 1.2377 - accuracy: 0.5024 - recall: 0.2700 - precision: 0.9186 - val_loss: 1.8050 - val_accuracy: 0.4430 - val_recall: 0.1261 - val_precision: 0.8320\n"
          ]
        }
      ],
      "source": [
        "model3 = Sequential()\n",
        "# input layers\n",
        "model3.add(EfficientNetB0(include_top=False, weights='imagenet', input_shape=(256, 256, 3)))\n",
        "model3.add(PReLU(alpha_initializer=Constant(value=0.25)))\n",
        "model3.add(GlobalAveragePooling2D())\n",
        "\n",
        "# model3.add(Conv2D(filters=16, kernel_size=(3,3), activation='relu'))\n",
        "# # reduce the dimensionality inside the CNN\n",
        "# model3.add(MaxPool2D(pool_size=(2,2)))\n",
        "# before this information inside the NN is 3-d -- to connec to Dense\n",
        "# layer, we need to squash it\n",
        "model3.add(Flatten())\n",
        "\n",
        "# hidden layers\n",
        "# 1\n",
        "model3.add(Dense(units=128, activation='relu'))\n",
        "model3.add(Dropout(0.7))\n",
        "# 2\n",
        "model3.add(Dense(units=128, activation='relu'))\n",
        "model3.add(Dropout(0.6))\n",
        "# 3\n",
        "model3.add(Dense(units=64, activation='relu'))\n",
        "model3.add(Dropout(0.5))\n",
        "# # 4 \n",
        "model3.add(Dense(units=64, activation='relu'))\n",
        "model3.add(Dropout(0.5))\n",
        "\n",
        "# output layer\n",
        "model3.add(Dense(units=8, activation='softmax'))\n",
        "\n",
        "model3.compile(loss=categorical_crossentropy, optimizer='adam', metrics=['accuracy', 'Recall', 'Precision'])\n",
        "callback = [EarlyStopping(monitor='val_accuracy', patience=5)]\n",
        "history3 = model3.fit(\n",
        "    train_generator,\n",
        "    batch_size=32,\n",
        "    epochs=50,\n",
        "    validation_data=val_generator,\n",
        "    callbacks=callback\n",
        ")"
      ]
    },
    {
      "cell_type": "code",
      "execution_count": null,
      "metadata": {
        "colab": {
          "base_uri": "https://localhost:8080/",
          "height": 803
        },
        "id": "uU1fllcyezr6",
        "outputId": "6a0906db-7464-404f-c1f7-aa2300735f6d"
      },
      "outputs": [
        {
          "data": {
            "image/png": "[encoded data removed]",
            "text/plain": [
              "<Figure size 432x288 with 1 Axes>"
            ]
          },
          "metadata": {
            "needs_background": "light"
          },
          "output_type": "display_data"
        },
        {
          "data": {
            "image/png": "[encoded data removed]",
            "text/plain": [
              "<Figure size 432x288 with 1 Axes>"
            ]
          },
          "metadata": {
            "needs_background": "light"
          },
          "output_type": "display_data"
        },
        {
          "data": {
            "image/png": "[encoded data removed]",
            "text/plain": [
              "<Figure size 432x288 with 1 Axes>"
            ]
          },
          "metadata": {
            "needs_background": "light"
          },
          "output_type": "display_data"
        }
      ],
      "source": [
        "plot_metrics(history3)"
      ]
    },
    {
      "cell_type": "code",
      "execution_count": null,
      "metadata": {
        "colab": {
          "base_uri": "https://localhost:8080/"
        },
        "id": "J5wu7YMyYZwg",
        "outputId": "9dd37b11-2209-4f8e-903d-011438fec383"
      },
      "outputs": [
        {
          "name": "stdout",
          "output_type": "stream",
          "text": [
            "Found 1650 validated image filenames belonging to 8 classes.\n",
            "Found 14838 validated image filenames belonging to 8 classes.\n"
          ]
        }
      ],
      "source": [
        "from keras.utils.traceback_utils import include_frame\n",
        "# image Gen stuff\n",
        "# ['antelope_duiker',\t'bird',\t'blank', 'civet_genet', 'hog', 'leopard', 'monkey_prosimian','rodent']\n",
        "img_gen_val = ImageDataGenerator()\n",
        "val_generator = img_gen_val.flow_from_dataframe(\n",
        "    validation_set, \n",
        "    directory=train_path, \n",
        "    x_col='filename', \n",
        "    y_col='animal_classification', \n",
        "    target_size=(256, 256), \n",
        "    class_mode='categorical',\n",
        "    batch_size=32,\n",
        ")\n",
        "img_gen_train = ImageDataGenerator(\n",
        "        height_shift_range=0.07,\n",
        "        horizontal_flip=True,\n",
        "        preprocessing_function=tensorflow.image.rgb_to_grayscale,\n",
        ")\n",
        "train_generator = img_gen_train.flow_from_dataframe(\n",
        "    train_set, \n",
        "    directory=train_path, \n",
        "    x_col='filename', \n",
        "    y_col='animal_classification', \n",
        "    target_size=(256, 256), \n",
        "    class_mode='categorical',\n",
        "    batch_size=32,\n",
        ")"
      ]
    },
    {
      "cell_type": "code",
      "execution_count": null,
      "metadata": {
        "id": "XC2B5u9FYaTA"
      },
      "outputs": [],
      "source": [
        "from tensorflow.python.ops.gen_batch_ops import batch\n",
        "from sklearn.model_selection import train_test_split\n",
        "from keras import Input, Model\n",
        "from sklearn.preprocessing import LabelEncoder\n",
        "\n",
        "\n",
        "# train_site = train[['site','animal_classification']]\n",
        "# X = pd.get_dummies(train_site[['site']])\n",
        "# y = train_site['animal_classification']\n",
        "# y = y.values.tolist()\n",
        "# le = LabelEncoder()\n",
        "# y = np.array(le.fit_transform(y))\n",
        "# X_train, X_val, y_train, y_val = train_test_split(X, y, test_size=.15, stratify=y)\n",
        "\n",
        "\n",
        "\n",
        "# # process image data using conv layers\n",
        "input_num = Input(shape=(148,))\n",
        "dense_1 = Dense(128, activation='relu')(input_num)\n",
        "dropout_1 = Dropout(.7)(dense_1)\n",
        "dense_2 = Dense(128, activation='relu')(dropout_1)\n",
        "dropout_2 = Dropout(.7)(dense_2)\n",
        "dense_3 = Dense(32, activation='relu')(dropout_2)\n",
        "dropout_3 = Dropout(.6)(dense_3)\n",
        "dense_4 = Dense(64, activation='relu')(dropout_3)\n",
        "dropout_4 = Dropout(.5)(dense_4)\n",
        "output = Dense(1, activation='sigmoid')(dropout_4) \n",
        "\n",
        "\n",
        "# # # # process numerical data\n",
        "input_img = Input(shape=(256, 256, 3))\n",
        "\n",
        "# model = Model(inputs=[input_num], outputs=[output])\n",
        "# model.compile(loss=categorical_crossentropy, optimizer=tensorflow.keras.optimizers.Adam(learning_rate=.00001), metrics=['accuracy', 'Recall', 'Precision'])\n",
        "# history = model.fit(\n",
        "#     X_train,\n",
        "#     y_train,\n",
        "#     validation_data = (X_val, y_val),\n",
        "#     epochs=80,\n",
        "#     batch_size=32\n",
        "# )\n",
        "\n",
        "\n",
        "# nlp_input = Input(shape=(seq_length,)) \n",
        "# meta_input = Input(shape=(10,))\n",
        "\n",
        "# emb = Embedding(output_dim=embedding_size, input_dim=100, input_length=seq_length)(nlp_input) \n",
        "# nlp_out = Bidirectional(LSTM(128))(emb) \n",
        "# concat = concatenate([nlp_out, meta_input]) \n",
        "# classifier = Dense(32, activation='relu')(concat) \n",
        "# output = Dense(1, activation='sigmoid')(classifier) \n",
        "\n",
        "# model = Model(inputs=[nlp_input , meta_input], outputs=[output])\n",
        "\n",
        "# # merge the result with a merge layer such as concatenation\n",
        "# merged = concatenate([out_conv, out_num])\n",
        "# # the rest of the network ...\n",
        "\n",
        "# out = Dense(num_classes, activation='softmax')(...)\n",
        "\n",
        "# # create the model\n",
        "# model = Model([inp_img, inp_num], out)\n",
        "\n"
      ]
    },
    {
      "cell_type": "markdown",
      "metadata": {
        "id": "-mTHbNloSHaX"
      },
      "source": [
        "Become a little overfit but better in accuracy recall and precision. Needs quick change to Exsisting Dense layer or additional dense layer. Maybe more ImageGenerator augmentations. Val recall is low add more data complexity. To convergee Faster."
      ]
    },
    {
      "cell_type": "markdown",
      "metadata": {
        "id": "O3fZja5IS5CY"
      },
      "source": [
        "### Model 3 Iterations - NA: Added More dense layers and Dropout layers. Added additional hyperparms to Image Generator. color_mode=grayscale"
      ]
    },
    {
      "cell_type": "code",
      "execution_count": null,
      "metadata": {
        "colab": {
          "base_uri": "https://localhost:8080/"
        },
        "id": "CIVq_Rgxrf7i",
        "outputId": "ffff6358-5b50-4a87-858c-480a8b26d503"
      },
      "outputs": [
        {
          "name": "stdout",
          "output_type": "stream",
          "text": [
            "Found 1650 validated image filenames belonging to 8 classes.\n",
            "Found 14838 validated image filenames belonging to 8 classes.\n"
          ]
        }
      ],
      "source": [
        "from keras.utils.traceback_utils import include_frame\n",
        "# image Gen stuff\n",
        "# ['antelope_duiker',\t'bird',\t'blank', 'civet_genet', 'hog', 'leopard', 'monkey_prosimian','rodent']\n",
        "img_gen = ImageDataGenerator(\n",
        "        brightness_range=[.4, 1.2],\n",
        "        height_shift_range=.4,\n",
        "        horizontal_flip=True,\n",
        ")\n",
        "val_generator = img_gen.flow_from_dataframe(\n",
        "    validation_set, \n",
        "    directory=train_path, \n",
        "    x_col='filename', \n",
        "    y_col='animal_classification', \n",
        "    target_size=(256, 256), \n",
        "    class_mode='categorical',\n",
        "    color_mode='grayscale', # increase accuracy and recall for train and test\n",
        "    batch_size=32\n",
        ")\n",
        "train_generator = img_gen.flow_from_dataframe(\n",
        "    train_set, \n",
        "    directory=train_path, \n",
        "    x_col='filename', \n",
        "    y_col='animal_classification', \n",
        "    target_size=(256, 256), \n",
        "    class_mode='categorical',\n",
        "    color_mode='grayscale', # increase accuracy and recall for train and test\n",
        "    batch_size=32\n",
        ")"
      ]
    },
    {
      "cell_type": "code",
      "execution_count": 6,
      "metadata": {
        "colab": {
          "base_uri": "https://localhost:8080/",
          "height": 1000
        },
        "id": "nYgK2Q89rkND",
        "outputId": "bb41c73f-c436-4d3d-e9a9-94eabcf7babd"
      },
      "outputs": [],
      "source": [
        "model3 = Sequential()\n",
        "# input layers\n",
        "model3.add(EfficientNetB0(include_top=False, weights='imagenet', input_shape=(256, 256, 3)))\n",
        "model3.add(PReLU(alpha_initializer=Constant(value=0.25)))\n",
        "model3.add(GlobalAveragePooling2D())\n",
        "model3.add(Flatten())\n",
        "model3.add(Dropout(0.8))\n",
        "\n",
        "# hidden layers\n",
        "# 1\n",
        "model3.add(Dense(units=128, activation='relu'))\n",
        "model3.add(Dropout(0.7))\n",
        "# 2\n",
        "model3.add(Dense(units=128, activation='relu'))\n",
        "model3.add(Dropout(0.6))\n",
        "# 3\n",
        "model3.add(Dense(units=32, activation='relu'))\n",
        "model3.add(Dropout(0.5))\n",
        "# 4 \n",
        "model3.add(Dense(units=64, activation='relu')) # fix inconsistent loss on validation set\n",
        "model3.add(Dropout(0.7))\n",
        "\n",
        "# output layer\n",
        "model3.add(Dense(units=8, activation='softmax'))\n",
        "# opt = tensorflow.keras.optimizers.Adam(learning_rate=0.0001)\n",
        "\n",
        "model3.compile(loss=categorical_crossentropy, optimizer='adam', metrics=['accuracy', 'Recall', 'Precision'])\n",
        "callback = [EarlyStopping(monitor='val_loss', patience=20)]\n",
        "history3 = model3.fit(\n",
        "    train_generator,\n",
        "    batch_size=32,\n",
        "    epochs=100,\n",
        "    validation_data=val_generator,\n",
        "    callbacks=callback\n",
        ")"
      ]
    },
    {
      "cell_type": "markdown",
      "metadata": {
        "id": "-310PQ1DMRFZ"
      },
      "source": [
        "Val loss is consitently decreasing so fixxeed the corret number of dropoutlayer but now vall recall and val percision are low meaning the model is just rendomly guess. Mess with Image generator hyper parms."
      ]
    },
    {
      "cell_type": "code",
      "execution_count": null,
      "metadata": {
        "id": "MQe1rYOPK3gK"
      },
      "outputs": [],
      "source": [
        "from keras.utils.traceback_utils import include_frame\n",
        "# image Gen stuff\n",
        "# ['antelope_duiker',\t'bird',\t'blank', 'civet_genet', 'hog', 'leopard', 'monkey_prosimian','rodent']\n",
        "img_gen = ImageDataGenerator(\n",
        "        height_shift_range=.4,\n",
        "        horizontal_flip=True,\n",
        ")\n",
        "val_generator = img_gen.flow_from_dataframe(\n",
        "    validation_set, \n",
        "    directory=train_path, \n",
        "    x_col='filename', \n",
        "    y_col='animal_classification', \n",
        "    target_size=(256, 256), \n",
        "    class_mode='categorical',\n",
        "    color_mode='grayscale', # increase accuracy and recall for train and test\n",
        "    batch_size=32\n",
        ")\n",
        "train_generator = img_gen.flow_from_dataframe(\n",
        "    train_set, \n",
        "    directory=train_path, \n",
        "    x_col='filename', \n",
        "    y_col='animal_classification', \n",
        "    target_size=(256, 256), \n",
        "    class_mode='categorical',\n",
        "    color_mode='grayscale', # increase accuracy and recall for train and test\n",
        "    batch_size=32\n",
        ")"
      ]
    },
    {
      "cell_type": "code",
      "execution_count": null,
      "metadata": {
        "id": "1N1ux5ZhOmpG"
      },
      "outputs": [],
      "source": [
        "model3 = Sequential()\n",
        "# input layers\n",
        "model3.add(EfficientNetB0(include_top=False, weights='imagenet', input_shape=(256, 256, 3)))\n",
        "model3.add(PReLU(alpha_initializer=Constant(value=0.25)))\n",
        "model3.add(GlobalAveragePooling2D())\n",
        "model3.add(Flatten())\n",
        "model3.add(Dropout(0.8))\n",
        "\n",
        "# hidden layers\n",
        "# 1\n",
        "model3.add(Dense(units=128, activation='relu'))\n",
        "model3.add(Dropout(0.7))\n",
        "# 2\n",
        "model3.add(Dense(units=128, activation='relu'))\n",
        "model3.add(Dropout(0.6))\n",
        "# 3\n",
        "model3.add(Dense(units=32, activation='relu'))\n",
        "model3.add(Dropout(0.5))\n",
        "# 4 \n",
        "model3.add(Dense(units=64, activation='relu')) # fix inconsistent loss on validation set\n",
        "model3.add(Dropout(0.7))\n",
        "\n",
        "# output layer\n",
        "model3.add(Dense(units=8, activation='softmax'))\n",
        "opt = tensorflow.keras.optimizers.Adam(learning_rate=0.0001)\n",
        "\n",
        "model3.compile(loss=categorical_crossentropy, optimizer=opt, metrics=['accuracy', 'Recall', 'Precision'])\n",
        "callback = [EarlyStopping(monitor='val_loss', patience=20)]\n",
        "history3 = model3.fit(\n",
        "    train_generator,\n",
        "    batch_size=32,\n",
        "    epochs=100,\n",
        "    validation_data=val_generator,\n",
        "    callbacks=callback\n",
        ")"
      ]
    },
    {
      "cell_type": "markdown",
      "metadata": {
        "id": "DCxnxQVfR8d4"
      },
      "source": [
        "The validation and val precision still missing the mark. Add a larger batch size"
      ]
    },
    {
      "cell_type": "code",
      "execution_count": null,
      "metadata": {
        "id": "GpoiJui_R6OX"
      },
      "outputs": [],
      "source": [
        "from keras.utils.traceback_utils import include_frame\n",
        "# image Gen stuff\n",
        "# ['antelope_duiker',\t'bird',\t'blank', 'civet_genet', 'hog', 'leopard', 'monkey_prosimian','rodent']\n",
        "img_gen = ImageDataGenerator(\n",
        "        height_shift_range=.4,\n",
        "        horizontal_flip=True,\n",
        ")\n",
        "val_generator = img_gen.flow_from_dataframe(\n",
        "    validation_set, \n",
        "    directory=train_path, \n",
        "    x_col='filename', \n",
        "    y_col='animal_classification', \n",
        "    target_size=(256, 256), \n",
        "    class_mode='categorical',\n",
        "    color_mode='grayscale', # increase accuracy and recall for train and test\n",
        "    batch_size=32\n",
        ")\n",
        "train_generator = img_gen.flow_from_dataframe(\n",
        "    train_set, \n",
        "    directory=train_path, \n",
        "    x_col='filename', \n",
        "    y_col='animal_classification', \n",
        "    target_size=(256, 256), \n",
        "    class_mode='categorical',\n",
        "    color_mode='grayscale', # increase accuracy and recall for train and test\n",
        "    batch_size=32\n",
        ")"
      ]
    },
    {
      "cell_type": "code",
      "execution_count": null,
      "metadata": {
        "id": "K995t2yOSJ75"
      },
      "outputs": [],
      "source": [
        "model4 = Sequential()\n",
        "# input layers\n",
        "model4.add(EfficientNetB0(include_top=False, weights='imagenet', input_shape=(256, 256, 3)))\n",
        "model4.add(PReLU(alpha_initializer=Constant(value=0.25)))\n",
        "model4.add(GlobalAveragePooling2D())\n",
        "model4.add(Flatten())\n",
        "model4.add(Dropout(0.8))\n",
        "\n",
        "# hidden layers\n",
        "# 1\n",
        "model4.add(Dense(units=128, activation='relu'))\n",
        "model4.add(Dropout(0.7))\n",
        "# 2\n",
        "model4.add(Dense(units=128, activation='relu'))\n",
        "model4.add(Dropout(0.6))\n",
        "# 3\n",
        "model4.add(Dense(units=32, activation='relu'))\n",
        "model4.add(Dropout(0.5))\n",
        "# 4 \n",
        "model4.add(Dense(units=32, activation='relu')) # fix inconsistent loss on validation set\n",
        "model4.add(Dropout(0.5))\n",
        "\n",
        "# output layer\n",
        "model4.add(Dense(units=8, activation='softmax'))\n",
        "opt = tensorflow.keras.optimizers.Adam(learning_rate=0.0001)\n",
        "\n",
        "model4.compile(loss=categorical_crossentropy, optimizer=opt, metrics=['accuracy', 'Recall', 'Precision'])\n",
        "callback = [EarlyStopping(monitor='val_loss', patience=20)]\n",
        "history3 = model4.fit(\n",
        "    train_generator,\n",
        "    batch_size=32,\n",
        "    epochs=100,\n",
        "    validation_data=val_generator,\n",
        "    callbacks=callback\n",
        ")"
      ]
    },
    {
      "cell_type": "markdown",
      "metadata": {
        "id": "4g9dsdneQ_0m"
      },
      "source": [
        "### Model 4 - NA"
      ]
    },
    {
      "cell_type": "code",
      "execution_count": 12,
      "metadata": {
        "colab": {
          "base_uri": "https://localhost:8080/"
        },
        "id": "8p9tTKOcQhj5",
        "outputId": "c49b99bc-1580-4fba-b375-129f9c40b459"
      },
      "outputs": [
        {
          "name": "stdout",
          "output_type": "stream",
          "text": [
            "Found 1650 validated image filenames belonging to 8 classes.\n",
            "Found 14838 validated image filenames belonging to 8 classes.\n"
          ]
        }
      ],
      "source": [
        "from keras.utils.traceback_utils import include_frame\n",
        "# image Gen stuff\n",
        "# ['antelope_duiker',\t'bird',\t'blank', 'civet_genet', 'hog', 'leopard', 'monkey_prosimian','rodent']\n",
        "img_gen_val = ImageDataGenerator()\n",
        "val_generator = img_gen_val.flow_from_dataframe(\n",
        "    validation_set, \n",
        "    directory=train_path, \n",
        "    x_col='filename', \n",
        "    y_col='animal_classification', \n",
        "    target_size=(256, 256), \n",
        "    class_mode='categorical',\n",
        "    batch_size=32,\n",
        ")\n",
        "img_gen_train = ImageDataGenerator(\n",
        "        height_shift_range=0.07,\n",
        "        horizontal_flip=True,\n",
        "        preprocessing_function=tensorflow.image.rgb_to_grayscale,\n",
        ")\n",
        "train_generator = img_gen_train.flow_from_dataframe(\n",
        "    train_set, \n",
        "    directory=train_path, \n",
        "    x_col='filename', \n",
        "    y_col='animal_classification', \n",
        "    target_size=(256, 256), \n",
        "    class_mode='categorical',\n",
        "    batch_size=32,\n",
        ")"
      ]
    },
    {
      "cell_type": "code",
      "execution_count": 19,
      "metadata": {
        "colab": {
          "base_uri": "https://localhost:8080/"
        },
        "id": "eIqSQAKGQy2S",
        "outputId": "256f0cfc-d9ff-4881-b194-19275b21caf0"
      },
      "outputs": [
        {
          "name": "stdout",
          "output_type": "stream",
          "text": [
            "Epoch 1/100\n",
            "464/464 [==============================] - 287s 607ms/step - loss: 1.7715 - accuracy: 0.3155 - recall: 0.1093 - precision: 0.7013 - val_loss: 1.5801 - val_accuracy: 0.3848 - val_recall: 0.1370 - val_precision: 0.5870\n",
            "Epoch 2/100\n",
            "464/464 [==============================] - 279s 601ms/step - loss: 1.5346 - accuracy: 0.4072 - recall: 0.1940 - precision: 0.7538 - val_loss: 1.4987 - val_accuracy: 0.4218 - val_recall: 0.1782 - val_precision: 0.5600\n",
            "Epoch 3/100\n",
            "464/464 [==============================] - 280s 603ms/step - loss: 1.4494 - accuracy: 0.4363 - recall: 0.2336 - precision: 0.7737 - val_loss: 1.6049 - val_accuracy: 0.3842 - val_recall: 0.1170 - val_precision: 0.5796\n",
            "Epoch 4/100\n",
            "464/464 [==============================] - 284s 611ms/step - loss: 1.3944 - accuracy: 0.4579 - recall: 0.2560 - precision: 0.7815 - val_loss: 1.6051 - val_accuracy: 0.3927 - val_recall: 0.1388 - val_precision: 0.6123\n",
            "Epoch 5/100\n",
            "464/464 [==============================] - 283s 610ms/step - loss: 1.3410 - accuracy: 0.4796 - recall: 0.2734 - precision: 0.7963 - val_loss: 1.5214 - val_accuracy: 0.4236 - val_recall: 0.1545 - val_precision: 0.6693\n",
            "Epoch 6/100\n",
            "464/464 [==============================] - 282s 608ms/step - loss: 1.3102 - accuracy: 0.4919 - recall: 0.2934 - precision: 0.7987 - val_loss: 1.5897 - val_accuracy: 0.3982 - val_recall: 0.1267 - val_precision: 0.6635\n",
            "Epoch 7/100\n",
            "464/464 [==============================] - 283s 610ms/step - loss: 1.2963 - accuracy: 0.4932 - recall: 0.3002 - precision: 0.7957 - val_loss: 1.5527 - val_accuracy: 0.4376 - val_recall: 0.1406 - val_precision: 0.6356\n",
            "Epoch 8/100\n",
            "464/464 [==============================] - 280s 604ms/step - loss: 1.2584 - accuracy: 0.5092 - recall: 0.3188 - precision: 0.8076 - val_loss: 1.4659 - val_accuracy: 0.4624 - val_recall: 0.1733 - val_precision: 0.6356\n",
            "Epoch 9/100\n",
            "464/464 [==============================] - 281s 606ms/step - loss: 1.2480 - accuracy: 0.5185 - recall: 0.3247 - precision: 0.8001 - val_loss: 1.5606 - val_accuracy: 0.4448 - val_recall: 0.2042 - val_precision: 0.5462\n",
            "Epoch 10/100\n",
            "464/464 [==============================] - 283s 609ms/step - loss: 1.2276 - accuracy: 0.5255 - recall: 0.3346 - precision: 0.8069 - val_loss: 1.4679 - val_accuracy: 0.4533 - val_recall: 0.1764 - val_precision: 0.6912\n",
            "Epoch 11/100\n",
            "464/464 [==============================] - 281s 605ms/step - loss: 1.2186 - accuracy: 0.5321 - recall: 0.3461 - precision: 0.8084 - val_loss: 1.5533 - val_accuracy: 0.4412 - val_recall: 0.1842 - val_precision: 0.6217\n",
            "Epoch 12/100\n",
            "464/464 [==============================] - 280s 604ms/step - loss: 1.2021 - accuracy: 0.5357 - recall: 0.3533 - precision: 0.8086 - val_loss: 1.6346 - val_accuracy: 0.4212 - val_recall: 0.1679 - val_precision: 0.6295\n",
            "Epoch 13/100\n",
            "464/464 [==============================] - 281s 605ms/step - loss: 1.1885 - accuracy: 0.5445 - recall: 0.3599 - precision: 0.8144 - val_loss: 1.5882 - val_accuracy: 0.4788 - val_recall: 0.1794 - val_precision: 0.5770\n",
            "Epoch 14/100\n",
            "464/464 [==============================] - 281s 606ms/step - loss: 1.1865 - accuracy: 0.5449 - recall: 0.3600 - precision: 0.8087 - val_loss: 1.5894 - val_accuracy: 0.4291 - val_recall: 0.1770 - val_precision: 0.5840\n",
            "Epoch 15/100\n",
            "464/464 [==============================] - 281s 605ms/step - loss: 1.1742 - accuracy: 0.5430 - recall: 0.3692 - precision: 0.8177 - val_loss: 1.5017 - val_accuracy: 0.4358 - val_recall: 0.2139 - val_precision: 0.6598\n",
            "Epoch 16/100\n",
            "464/464 [==============================] - 286s 616ms/step - loss: 1.1602 - accuracy: 0.5500 - recall: 0.3750 - precision: 0.8142 - val_loss: 1.4973 - val_accuracy: 0.5000 - val_recall: 0.2285 - val_precision: 0.6855\n",
            "Epoch 17/100\n",
            "464/464 [==============================] - 284s 611ms/step - loss: 1.1643 - accuracy: 0.5552 - recall: 0.3782 - precision: 0.8207 - val_loss: 1.5796 - val_accuracy: 0.4418 - val_recall: 0.2885 - val_precision: 0.5943\n",
            "Epoch 18/100\n",
            "464/464 [==============================] - 282s 608ms/step - loss: 1.1444 - accuracy: 0.5602 - recall: 0.3831 - precision: 0.8181 - val_loss: 1.5729 - val_accuracy: 0.4533 - val_recall: 0.2194 - val_precision: 0.6642\n",
            "Epoch 19/100\n",
            "464/464 [==============================] - 281s 605ms/step - loss: 1.1399 - accuracy: 0.5557 - recall: 0.3803 - precision: 0.8204 - val_loss: 1.5811 - val_accuracy: 0.4879 - val_recall: 0.2073 - val_precision: 0.6719\n",
            "Epoch 20/100\n",
            "464/464 [==============================] - 281s 606ms/step - loss: 1.1341 - accuracy: 0.5710 - recall: 0.3916 - precision: 0.8172 - val_loss: 1.7064 - val_accuracy: 0.4764 - val_recall: 0.2418 - val_precision: 0.5700\n",
            "Epoch 21/100\n",
            "464/464 [==============================] - 281s 606ms/step - loss: 1.1344 - accuracy: 0.5607 - recall: 0.3949 - precision: 0.8143 - val_loss: 1.6296 - val_accuracy: 0.4352 - val_recall: 0.2188 - val_precision: 0.6423\n",
            "Epoch 22/100\n",
            "464/464 [==============================] - 282s 608ms/step - loss: 1.1196 - accuracy: 0.5746 - recall: 0.3976 - precision: 0.8274 - val_loss: 1.7209 - val_accuracy: 0.4521 - val_recall: 0.2061 - val_precision: 0.6028\n",
            "Epoch 23/100\n",
            "464/464 [==============================] - 282s 608ms/step - loss: 1.1132 - accuracy: 0.5710 - recall: 0.4023 - precision: 0.8127 - val_loss: 1.6400 - val_accuracy: 0.4315 - val_recall: 0.2139 - val_precision: 0.6161\n",
            "Epoch 24/100\n",
            "464/464 [==============================] - 283s 610ms/step - loss: 1.1175 - accuracy: 0.5698 - recall: 0.4000 - precision: 0.8122 - val_loss: 1.6059 - val_accuracy: 0.4648 - val_recall: 0.2212 - val_precision: 0.6612\n",
            "Epoch 25/100\n",
            "464/464 [==============================] - 282s 607ms/step - loss: 1.1097 - accuracy: 0.5756 - recall: 0.4046 - precision: 0.8184 - val_loss: 1.6358 - val_accuracy: 0.4533 - val_recall: 0.2279 - val_precision: 0.6494\n",
            "Epoch 26/100\n",
            "464/464 [==============================] - 282s 607ms/step - loss: 1.1093 - accuracy: 0.5763 - recall: 0.4071 - precision: 0.8173 - val_loss: 1.5769 - val_accuracy: 0.4661 - val_recall: 0.2182 - val_precision: 0.6250\n",
            "Epoch 27/100\n",
            "464/464 [==============================] - 282s 608ms/step - loss: 1.0933 - accuracy: 0.5794 - recall: 0.4111 - precision: 0.8228 - val_loss: 1.6793 - val_accuracy: 0.4321 - val_recall: 0.2224 - val_precision: 0.6589\n",
            "Epoch 28/100\n",
            "464/464 [==============================] - 282s 608ms/step - loss: 1.0835 - accuracy: 0.5782 - recall: 0.4170 - precision: 0.8216 - val_loss: 1.8197 - val_accuracy: 0.4764 - val_recall: 0.2236 - val_precision: 0.5660\n"
          ]
        }
      ],
      "source": [
        "effnet = EfficientNetB0(include_top=False, weights='imagenet')\n",
        "effnet.trainable = False\n",
        "model_es = Sequential()\n",
        "model_es.add(effnet)\n",
        "model_es.add(GlobalAveragePooling2D())\n",
        "model_es.add(Flatten())\n",
        "model_es.add(Dense(units=128, activation='relu'))\n",
        "model_es.add(Dropout(0.7))\n",
        "model_es.add(Dense(units=128, activation='relu'))\n",
        "model_es.add(Dropout(0.6))\n",
        "model_es.add(Dense(8, activation='softmax'))\n",
        "model_es.compile(loss=categorical_crossentropy, optimizer='adam', metrics=['accuracy', 'Recall', 'Precision'])\n",
        "callback = [EarlyStopping(monitor='val_loss', patience=20)]\n",
        "history3 = model_es.fit(\n",
        "    train_generator,\n",
        "    batch_size=32,\n",
        "    epochs=100,\n",
        "    validation_data=val_generator,\n",
        "    callbacks=callback\n",
        ")"
      ]
    },
    {
      "cell_type": "markdown",
      "metadata": {
        "id": "TzbkUh29sgDy"
      },
      "source": [
        "## Beta For later Improvements\n"
      ]
    },
    {
      "cell_type": "code",
      "execution_count": 72,
      "metadata": {
        "id": "efn9rtVcSWZG"
      },
      "outputs": [],
      "source": [
        "# from sklearn.model_selection import train_test_split, GroupShuffleSplit\n",
        "# X = train[['id', 'filename', 'animal_classification']]\n",
        "# y = train['animal_classification']\n",
        "\n",
        "# X_train, X_val, y_train, y_val = train_test_split(X, y, test_size=0.15, random_state=0, stratify=y)\n"
      ]
    }
  ],
  "metadata": {
    "accelerator": "GPU",
    "colab": {
      "background_execution": "on",
      "collapsed_sections": [
        "rs-w8RDb12bM",
        "XcvnyAsu188r",
        "Jyj7IbXwQWk_",
        "yRB3_vZr2AJx",
        "LQ4wdFncGSI6",
        "3gCHls-bEi7G",
        "K9am7Kl92F9Y",
        "o3ak06JP10Ov",
        "gj83NrZ-sXVs",
        "sofmpcphRf59",
        "O3fZja5IS5CY",
        "4g9dsdneQ_0m",
        "TzbkUh29sgDy"
      ],
      "machine_shape": "hm",
      "name": "EDA_project.ipynb",
      "provenance": []
    },
    "interpreter": {
      "hash": "d1e6c26adc8bad395b004c18f56e59eec4f16088a73327fc7833d1c5c445ad10"
    },
    "kernelspec": {
      "display_name": "Python 3.9.12 ('DL_env')",
      "language": "python",
      "name": "python3"
    },
    "language_info": {
      "codemirror_mode": {
        "name": "ipython",
        "version": 3
      },
      "file_extension": ".py",
      "mimetype": "text/x-python",
      "name": "python",
      "nbconvert_exporter": "python",
      "pygments_lexer": "ipython3",
      "version": "3.9.12"
    }
  },
  "nbformat": 4,
  "nbformat_minor": 0
}
